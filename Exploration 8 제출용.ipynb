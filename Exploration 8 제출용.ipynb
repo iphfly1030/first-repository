{
 "cells": [
  {
   "cell_type": "markdown",
   "id": "positive-tribune",
   "metadata": {},
   "source": [
    "# Movielens 영화 추천"
   ]
  },
  {
   "cell_type": "markdown",
   "id": "complimentary-trial",
   "metadata": {},
   "source": [
    "1. 유저가 영화에 대해 평점을 매긴 데이터가 데이터 크기 별로 있습니다. MovieLens 1M Dataset 사용을 권장합니다.\n",
    "\n",
    "2. 별점 데이터는 대표적인 explicit 데이터입니다. 하지만 implicit 데이터로 간주하고 테스트해볼 수 있습니다.\n",
    "\n",
    "3. 별점을 시청횟수로 해석해서 생각하겠습니다.\n",
    "\n",
    "4. 또한 유저가 3점 미만으로 준 데이터는 선호하지 않는다고 가정하고 제외하겠습니다."
   ]
  },
  {
   "cell_type": "code",
   "execution_count": 1,
   "id": "environmental-cleaners",
   "metadata": {},
   "outputs": [
    {
     "name": "stdout",
     "output_type": "stream",
     "text": [
      "--2021-02-16 00:34:14--  http://files.grouplens.org/datasets/movielens/ml-1m.zip\n",
      "Resolving files.grouplens.org (files.grouplens.org)... 128.101.65.152\n",
      "Connecting to files.grouplens.org (files.grouplens.org)|128.101.65.152|:80... connected.\n",
      "HTTP request sent, awaiting response... 200 OK\n",
      "Length: 5917549 (5.6M) [application/zip]\n",
      "Saving to: ‘ml-1m.zip’\n",
      "\n",
      "ml-1m.zip           100%[===================>]   5.64M  9.10MB/s    in 0.6s    \n",
      "\n",
      "2021-02-16 00:34:15 (9.10 MB/s) - ‘ml-1m.zip’ saved [5917549/5917549]\n",
      "\n"
     ]
    }
   ],
   "source": [
    "! wget http://files.grouplens.org/datasets/movielens/ml-1m.zip"
   ]
  },
  {
   "cell_type": "code",
   "execution_count": 2,
   "id": "important-liability",
   "metadata": {},
   "outputs": [],
   "source": [
    "! mv ml-1m.zip ~/aiffel/recommendata_iu/data"
   ]
  },
  {
   "cell_type": "code",
   "execution_count": 3,
   "id": "seeing-sympathy",
   "metadata": {},
   "outputs": [],
   "source": [
    "! cd ~/aiffel/recommendata_iu/data"
   ]
  },
  {
   "cell_type": "code",
   "execution_count": 4,
   "id": "reliable-battlefield",
   "metadata": {},
   "outputs": [
    {
     "name": "stdout",
     "output_type": "stream",
     "text": [
      "unzip:  cannot find or open ml-1m.zip, ml-1m.zip.zip or ml-1m.zip.ZIP.\r\n"
     ]
    }
   ],
   "source": [
    "! unzip ml-1m.zip"
   ]
  },
  {
   "cell_type": "code",
   "execution_count": 5,
   "id": "vertical-tourism",
   "metadata": {},
   "outputs": [
    {
     "name": "stdout",
     "output_type": "stream",
     "text": [
      "/home/aiffel-dj43/aiffel/recommendata_iu/data\n"
     ]
    }
   ],
   "source": [
    "cd ~/aiffel/recommendata_iu/data"
   ]
  },
  {
   "cell_type": "code",
   "execution_count": 6,
   "id": "minus-poster",
   "metadata": {},
   "outputs": [
    {
     "name": "stdout",
     "output_type": "stream",
     "text": [
      "/home/aiffel-dj43/aiffel/recommendata_iu/data\r\n"
     ]
    }
   ],
   "source": [
    "! pwd"
   ]
  },
  {
   "cell_type": "code",
   "execution_count": 1,
   "id": "stretch-alexandria",
   "metadata": {},
   "outputs": [
    {
     "name": "stdout",
     "output_type": "stream",
     "text": [
      "unzip:  cannot find or open ml-1m.zip, ml-1m.zip.zip or ml-1m.zip.ZIP.\r\n"
     ]
    }
   ],
   "source": [
    "! unzip ml-1m.zip"
   ]
  },
  {
   "cell_type": "markdown",
   "id": "declared-address",
   "metadata": {},
   "source": [
    "아까도 왜 명령어가 안먹나 했는데 느낌표를 붙이면 안됐던거다."
   ]
  },
  {
   "cell_type": "markdown",
   "id": "pointed-simon",
   "metadata": {},
   "source": [
    "## 1) 데이터 준비와 전처리"
   ]
  },
  {
   "cell_type": "code",
   "execution_count": 1,
   "id": "remarkable-loading",
   "metadata": {},
   "outputs": [
    {
     "data": {
      "text/html": [
       "<div>\n",
       "<style scoped>\n",
       "    .dataframe tbody tr th:only-of-type {\n",
       "        vertical-align: middle;\n",
       "    }\n",
       "\n",
       "    .dataframe tbody tr th {\n",
       "        vertical-align: top;\n",
       "    }\n",
       "\n",
       "    .dataframe thead th {\n",
       "        text-align: right;\n",
       "    }\n",
       "</style>\n",
       "<table border=\"1\" class=\"dataframe\">\n",
       "  <thead>\n",
       "    <tr style=\"text-align: right;\">\n",
       "      <th></th>\n",
       "      <th>user_id</th>\n",
       "      <th>movie_id</th>\n",
       "      <th>rating</th>\n",
       "      <th>timestamp</th>\n",
       "    </tr>\n",
       "  </thead>\n",
       "  <tbody>\n",
       "    <tr>\n",
       "      <th>0</th>\n",
       "      <td>1</td>\n",
       "      <td>1193</td>\n",
       "      <td>5</td>\n",
       "      <td>978300760</td>\n",
       "    </tr>\n",
       "    <tr>\n",
       "      <th>1</th>\n",
       "      <td>1</td>\n",
       "      <td>661</td>\n",
       "      <td>3</td>\n",
       "      <td>978302109</td>\n",
       "    </tr>\n",
       "    <tr>\n",
       "      <th>2</th>\n",
       "      <td>1</td>\n",
       "      <td>914</td>\n",
       "      <td>3</td>\n",
       "      <td>978301968</td>\n",
       "    </tr>\n",
       "    <tr>\n",
       "      <th>3</th>\n",
       "      <td>1</td>\n",
       "      <td>3408</td>\n",
       "      <td>4</td>\n",
       "      <td>978300275</td>\n",
       "    </tr>\n",
       "    <tr>\n",
       "      <th>4</th>\n",
       "      <td>1</td>\n",
       "      <td>2355</td>\n",
       "      <td>5</td>\n",
       "      <td>978824291</td>\n",
       "    </tr>\n",
       "  </tbody>\n",
       "</table>\n",
       "</div>"
      ],
      "text/plain": [
       "   user_id  movie_id  rating  timestamp\n",
       "0        1      1193       5  978300760\n",
       "1        1       661       3  978302109\n",
       "2        1       914       3  978301968\n",
       "3        1      3408       4  978300275\n",
       "4        1      2355       5  978824291"
      ]
     },
     "execution_count": 1,
     "metadata": {},
     "output_type": "execute_result"
    }
   ],
   "source": [
    "import pandas as pd\n",
    "import os\n",
    "rating_file_path=os.getenv('HOME') + '/aiffel/recommendata_iu/data/ml-1m/ratings.dat'\n",
    "ratings_cols = ['user_id', 'movie_id', 'rating', 'timestamp']\n",
    "ratings = pd.read_csv(rating_file_path, sep='::', names=ratings_cols, engine='python')\n",
    "orginal_data_size = len(ratings)\n",
    "ratings.head()"
   ]
  },
  {
   "cell_type": "code",
   "execution_count": 2,
   "id": "supported-cambridge",
   "metadata": {},
   "outputs": [
    {
     "name": "stdout",
     "output_type": "stream",
     "text": [
      "orginal_data_size: 1000209, filtered_data_size: 836478\n",
      "Ratio of Remaining Data is 83.63%\n"
     ]
    }
   ],
   "source": [
    "ratings = ratings[ratings['rating']>=3] #3점 이상 남기기\n",
    "filtered_data_size = len(ratings)\n",
    "\n",
    "print(f'orginal_data_size: {orginal_data_size}, filtered_data_size: {filtered_data_size}')\n",
    "print(f'Ratio of Remaining Data is {filtered_data_size / orginal_data_size:.2%}')"
   ]
  },
  {
   "cell_type": "code",
   "execution_count": 3,
   "id": "abandoned-modification",
   "metadata": {},
   "outputs": [],
   "source": [
    "ratings.rename(columns={'rating':'count'}, inplace=True) #ratings 부분을 count로 바꾸기"
   ]
  },
  {
   "cell_type": "code",
   "execution_count": 4,
   "id": "brief-bruce",
   "metadata": {},
   "outputs": [
    {
     "data": {
      "text/plain": [
       "0          5\n",
       "1          3\n",
       "2          3\n",
       "3          4\n",
       "4          5\n",
       "          ..\n",
       "1000203    3\n",
       "1000205    5\n",
       "1000206    5\n",
       "1000207    4\n",
       "1000208    4\n",
       "Name: count, Length: 836478, dtype: int64"
      ]
     },
     "execution_count": 4,
     "metadata": {},
     "output_type": "execute_result"
    }
   ],
   "source": [
    "ratings['count']"
   ]
  },
  {
   "cell_type": "code",
   "execution_count": 5,
   "id": "union-european",
   "metadata": {},
   "outputs": [
    {
     "data": {
      "text/html": [
       "<div>\n",
       "<style scoped>\n",
       "    .dataframe tbody tr th:only-of-type {\n",
       "        vertical-align: middle;\n",
       "    }\n",
       "\n",
       "    .dataframe tbody tr th {\n",
       "        vertical-align: top;\n",
       "    }\n",
       "\n",
       "    .dataframe thead th {\n",
       "        text-align: right;\n",
       "    }\n",
       "</style>\n",
       "<table border=\"1\" class=\"dataframe\">\n",
       "  <thead>\n",
       "    <tr style=\"text-align: right;\">\n",
       "      <th></th>\n",
       "      <th>movie_id</th>\n",
       "      <th>title</th>\n",
       "      <th>genre</th>\n",
       "    </tr>\n",
       "  </thead>\n",
       "  <tbody>\n",
       "    <tr>\n",
       "      <th>0</th>\n",
       "      <td>1</td>\n",
       "      <td>Toy Story (1995)</td>\n",
       "      <td>Animation|Children's|Comedy</td>\n",
       "    </tr>\n",
       "    <tr>\n",
       "      <th>1</th>\n",
       "      <td>2</td>\n",
       "      <td>Jumanji (1995)</td>\n",
       "      <td>Adventure|Children's|Fantasy</td>\n",
       "    </tr>\n",
       "    <tr>\n",
       "      <th>2</th>\n",
       "      <td>3</td>\n",
       "      <td>Grumpier Old Men (1995)</td>\n",
       "      <td>Comedy|Romance</td>\n",
       "    </tr>\n",
       "    <tr>\n",
       "      <th>3</th>\n",
       "      <td>4</td>\n",
       "      <td>Waiting to Exhale (1995)</td>\n",
       "      <td>Comedy|Drama</td>\n",
       "    </tr>\n",
       "    <tr>\n",
       "      <th>4</th>\n",
       "      <td>5</td>\n",
       "      <td>Father of the Bride Part II (1995)</td>\n",
       "      <td>Comedy</td>\n",
       "    </tr>\n",
       "  </tbody>\n",
       "</table>\n",
       "</div>"
      ],
      "text/plain": [
       "   movie_id                               title                         genre\n",
       "0         1                    Toy Story (1995)   Animation|Children's|Comedy\n",
       "1         2                      Jumanji (1995)  Adventure|Children's|Fantasy\n",
       "2         3             Grumpier Old Men (1995)                Comedy|Romance\n",
       "3         4            Waiting to Exhale (1995)                  Comedy|Drama\n",
       "4         5  Father of the Bride Part II (1995)                        Comedy"
      ]
     },
     "execution_count": 5,
     "metadata": {},
     "output_type": "execute_result"
    }
   ],
   "source": [
    "movie_file_path=os.getenv('HOME') + '/aiffel/recommendata_iu/data/ml-1m/movies.dat' # 영화 제목을 보기 위해 메타 데이터를 읽어옵니다.\n",
    "cols = ['movie_id', 'title', 'genre'] \n",
    "movies = pd.read_csv(movie_file_path, sep='::', names=cols, engine='python')\n",
    "movies.head()"
   ]
  },
  {
   "cell_type": "markdown",
   "id": "hindu-solution",
   "metadata": {},
   "source": [
    "## 2) 분석"
   ]
  },
  {
   "cell_type": "markdown",
   "id": "endless-sierra",
   "metadata": {},
   "source": [
    "### ratings에 있는 유니크한 영화 개수/사용자 수"
   ]
  },
  {
   "cell_type": "code",
   "execution_count": 6,
   "id": "computational-watershed",
   "metadata": {},
   "outputs": [
    {
     "data": {
      "text/plain": [
       "3628"
      ]
     },
     "execution_count": 6,
     "metadata": {},
     "output_type": "execute_result"
    }
   ],
   "source": [
    "ratings['movie_id'].nunique()"
   ]
  },
  {
   "cell_type": "code",
   "execution_count": 7,
   "id": "seasonal-muscle",
   "metadata": {},
   "outputs": [
    {
     "data": {
      "text/plain": [
       "6039"
      ]
     },
     "execution_count": 7,
     "metadata": {},
     "output_type": "execute_result"
    }
   ],
   "source": [
    "ratings['user_id'].nunique()"
   ]
  },
  {
   "cell_type": "markdown",
   "id": "appreciated-encoding",
   "metadata": {},
   "source": [
    "### 인기 영화 탑 30"
   ]
  },
  {
   "cell_type": "code",
   "execution_count": 8,
   "id": "independent-backing",
   "metadata": {},
   "outputs": [
    {
     "data": {
      "text/plain": [
       "movie_id\n",
       "2858    3211\n",
       "260     2910\n",
       "1196    2885\n",
       "1210    2716\n",
       "2028    2561\n",
       "589     2509\n",
       "593     2498\n",
       "1198    2473\n",
       "1270    2460\n",
       "2571    2434\n",
       "480     2413\n",
       "2762    2385\n",
       "608     2371\n",
       "110     2314\n",
       "1580    2297\n",
       "527     2257\n",
       "1197    2252\n",
       "2396    2213\n",
       "1617    2210\n",
       "318     2194\n",
       "858     2167\n",
       "1265    2121\n",
       "1097    2102\n",
       "2997    2066\n",
       "2716    2051\n",
       "296     2030\n",
       "356     2022\n",
       "1240    2019\n",
       "1       2000\n",
       "457     1941\n",
       "Name: user_id, dtype: int64"
      ]
     },
     "execution_count": 8,
     "metadata": {},
     "output_type": "execute_result"
    }
   ],
   "source": [
    "movie_count = ratings.groupby('movie_id')['user_id'].count()\n",
    "movie_count.sort_values(ascending=False).head(30)"
   ]
  },
  {
   "cell_type": "markdown",
   "id": "blessed-realtor",
   "metadata": {},
   "source": [
    "## 3) 내가 선호하는 영화를 5가지 골라서 rating에 추가"
   ]
  },
  {
   "cell_type": "markdown",
   "id": "noticed-latitude",
   "metadata": {},
   "source": [
    "사실 데이터를 확인하는 방법에 대해 잘 몰랐는데 캐글을 진행하면서 팀원들 중 한 분이 엑셀을 이용해서 데이터를 대략적으로 확인하는 방법에 대해 알려주셨다.  \n",
    "\n",
    "물론 이번 파일은 정상적으로 열리지 않아 대략적으로만 볼 수 있었는데 어찌됐던 엑셀을 통해 데이터를 파악했다.  \n",
    "\n",
    "다만, 코딩을 이용해서 어떻게 하는 방법이 있는지에 대해서는 아직 이해가 부족한 것 같다. 그래서 내가 선호하는 영화 5개는 못 골랐고 그냥 위에 보이는 5개를 선택했다."
   ]
  },
  {
   "cell_type": "code",
   "execution_count": 24,
   "id": "martial-extra",
   "metadata": {},
   "outputs": [
    {
     "data": {
      "text/html": [
       "<div>\n",
       "<style scoped>\n",
       "    .dataframe tbody tr th:only-of-type {\n",
       "        vertical-align: middle;\n",
       "    }\n",
       "\n",
       "    .dataframe tbody tr th {\n",
       "        vertical-align: top;\n",
       "    }\n",
       "\n",
       "    .dataframe thead th {\n",
       "        text-align: right;\n",
       "    }\n",
       "</style>\n",
       "<table border=\"1\" class=\"dataframe\">\n",
       "  <thead>\n",
       "    <tr style=\"text-align: right;\">\n",
       "      <th></th>\n",
       "      <th>user_id</th>\n",
       "      <th>movie_id</th>\n",
       "      <th>count</th>\n",
       "      <th>timestamp</th>\n",
       "    </tr>\n",
       "  </thead>\n",
       "  <tbody>\n",
       "    <tr>\n",
       "      <th>0</th>\n",
       "      <td>6039</td>\n",
       "      <td>520</td>\n",
       "      <td>5</td>\n",
       "      <td>NaN</td>\n",
       "    </tr>\n",
       "    <tr>\n",
       "      <th>1</th>\n",
       "      <td>6039</td>\n",
       "      <td>1929</td>\n",
       "      <td>5</td>\n",
       "      <td>NaN</td>\n",
       "    </tr>\n",
       "    <tr>\n",
       "      <th>2</th>\n",
       "      <td>6039</td>\n",
       "      <td>1526</td>\n",
       "      <td>5</td>\n",
       "      <td>NaN</td>\n",
       "    </tr>\n",
       "    <tr>\n",
       "      <th>3</th>\n",
       "      <td>6039</td>\n",
       "      <td>2606</td>\n",
       "      <td>5</td>\n",
       "      <td>NaN</td>\n",
       "    </tr>\n",
       "    <tr>\n",
       "      <th>4</th>\n",
       "      <td>6039</td>\n",
       "      <td>3455</td>\n",
       "      <td>5</td>\n",
       "      <td>NaN</td>\n",
       "    </tr>\n",
       "    <tr>\n",
       "      <th>0</th>\n",
       "      <td>hong</td>\n",
       "      <td>2137</td>\n",
       "      <td>5</td>\n",
       "      <td>NaN</td>\n",
       "    </tr>\n",
       "    <tr>\n",
       "      <th>1</th>\n",
       "      <td>hong</td>\n",
       "      <td>1099</td>\n",
       "      <td>5</td>\n",
       "      <td>NaN</td>\n",
       "    </tr>\n",
       "    <tr>\n",
       "      <th>2</th>\n",
       "      <td>hong</td>\n",
       "      <td>897</td>\n",
       "      <td>5</td>\n",
       "      <td>NaN</td>\n",
       "    </tr>\n",
       "    <tr>\n",
       "      <th>3</th>\n",
       "      <td>hong</td>\n",
       "      <td>717</td>\n",
       "      <td>5</td>\n",
       "      <td>NaN</td>\n",
       "    </tr>\n",
       "    <tr>\n",
       "      <th>4</th>\n",
       "      <td>hong</td>\n",
       "      <td>545</td>\n",
       "      <td>5</td>\n",
       "      <td>NaN</td>\n",
       "    </tr>\n",
       "  </tbody>\n",
       "</table>\n",
       "</div>"
      ],
      "text/plain": [
       "  user_id  movie_id  count  timestamp\n",
       "0    6039       520      5        NaN\n",
       "1    6039      1929      5        NaN\n",
       "2    6039      1526      5        NaN\n",
       "3    6039      2606      5        NaN\n",
       "4    6039      3455      5        NaN\n",
       "0    hong      2137      5        NaN\n",
       "1    hong      1099      5        NaN\n",
       "2    hong       897      5        NaN\n",
       "3    hong       717      5        NaN\n",
       "4    hong       545      5        NaN"
      ]
     },
     "execution_count": 24,
     "metadata": {},
     "output_type": "execute_result"
    }
   ],
   "source": [
    "my_favorite = [2137, 1099, 897, 717, 545]\n",
    "\n",
    "my_movielist = pd.DataFrame({'user_id': ['hong']*5, 'movie_id': my_favorite, 'count':[5]*5})\n",
    "\n",
    "if not ratings.isin({'user_id':['hong']})['user_id'].any():  \n",
    "    ratings = ratings.append(my_movielist)                           \n",
    "\n",
    "ratings.tail(10)       "
   ]
  },
  {
   "cell_type": "code",
   "execution_count": 25,
   "id": "tender-proof",
   "metadata": {},
   "outputs": [],
   "source": [
    "#unique 사용해 고유 유저와 영화 찾아내기\n",
    "user_unique = ratings['user_id'].unique()\n",
    "movie_unique = ratings['movie_id'].unique()"
   ]
  },
  {
   "cell_type": "code",
   "execution_count": 26,
   "id": "trying-broadcasting",
   "metadata": {},
   "outputs": [],
   "source": [
    "user_to_idx = {v:k for k,v in enumerate(user_unique)}\n",
    "movie_to_idx = {v:k for k,v in enumerate(movie_unique)}"
   ]
  },
  {
   "cell_type": "code",
   "execution_count": 27,
   "id": "developing-soundtrack",
   "metadata": {},
   "outputs": [
    {
     "name": "stdout",
     "output_type": "stream",
     "text": [
      "6040\n",
      "367\n"
     ]
    }
   ],
   "source": [
    "print(user_to_idx['hong']) \n",
    "print(movie_to_idx[367])"
   ]
  },
  {
   "cell_type": "code",
   "execution_count": 28,
   "id": "allied-satin",
   "metadata": {},
   "outputs": [
    {
     "name": "stdout",
     "output_type": "stream",
     "text": [
      "user_id column indexing OK!!\n",
      "movie column indexing OK!!\n"
     ]
    },
    {
     "data": {
      "text/html": [
       "<div>\n",
       "<style scoped>\n",
       "    .dataframe tbody tr th:only-of-type {\n",
       "        vertical-align: middle;\n",
       "    }\n",
       "\n",
       "    .dataframe tbody tr th {\n",
       "        vertical-align: top;\n",
       "    }\n",
       "\n",
       "    .dataframe thead th {\n",
       "        text-align: right;\n",
       "    }\n",
       "</style>\n",
       "<table border=\"1\" class=\"dataframe\">\n",
       "  <thead>\n",
       "    <tr style=\"text-align: right;\">\n",
       "      <th></th>\n",
       "      <th>user_id</th>\n",
       "      <th>movie_id</th>\n",
       "      <th>count</th>\n",
       "      <th>timestamp</th>\n",
       "    </tr>\n",
       "  </thead>\n",
       "  <tbody>\n",
       "    <tr>\n",
       "      <th>0</th>\n",
       "      <td>0</td>\n",
       "      <td>0</td>\n",
       "      <td>5</td>\n",
       "      <td>978300760.0</td>\n",
       "    </tr>\n",
       "    <tr>\n",
       "      <th>1</th>\n",
       "      <td>0</td>\n",
       "      <td>1</td>\n",
       "      <td>3</td>\n",
       "      <td>978302109.0</td>\n",
       "    </tr>\n",
       "    <tr>\n",
       "      <th>2</th>\n",
       "      <td>0</td>\n",
       "      <td>2</td>\n",
       "      <td>3</td>\n",
       "      <td>978301968.0</td>\n",
       "    </tr>\n",
       "    <tr>\n",
       "      <th>3</th>\n",
       "      <td>0</td>\n",
       "      <td>3</td>\n",
       "      <td>4</td>\n",
       "      <td>978300275.0</td>\n",
       "    </tr>\n",
       "    <tr>\n",
       "      <th>4</th>\n",
       "      <td>0</td>\n",
       "      <td>4</td>\n",
       "      <td>5</td>\n",
       "      <td>978824291.0</td>\n",
       "    </tr>\n",
       "    <tr>\n",
       "      <th>...</th>\n",
       "      <td>...</td>\n",
       "      <td>...</td>\n",
       "      <td>...</td>\n",
       "      <td>...</td>\n",
       "    </tr>\n",
       "    <tr>\n",
       "      <th>0</th>\n",
       "      <td>6040</td>\n",
       "      <td>2137</td>\n",
       "      <td>5</td>\n",
       "      <td>NaN</td>\n",
       "    </tr>\n",
       "    <tr>\n",
       "      <th>1</th>\n",
       "      <td>6040</td>\n",
       "      <td>1099</td>\n",
       "      <td>5</td>\n",
       "      <td>NaN</td>\n",
       "    </tr>\n",
       "    <tr>\n",
       "      <th>2</th>\n",
       "      <td>6040</td>\n",
       "      <td>897</td>\n",
       "      <td>5</td>\n",
       "      <td>NaN</td>\n",
       "    </tr>\n",
       "    <tr>\n",
       "      <th>3</th>\n",
       "      <td>6040</td>\n",
       "      <td>717</td>\n",
       "      <td>5</td>\n",
       "      <td>NaN</td>\n",
       "    </tr>\n",
       "    <tr>\n",
       "      <th>4</th>\n",
       "      <td>6040</td>\n",
       "      <td>545</td>\n",
       "      <td>5</td>\n",
       "      <td>NaN</td>\n",
       "    </tr>\n",
       "  </tbody>\n",
       "</table>\n",
       "<p>836488 rows × 4 columns</p>\n",
       "</div>"
      ],
      "text/plain": [
       "    user_id  movie_id  count    timestamp\n",
       "0         0         0      5  978300760.0\n",
       "1         0         1      3  978302109.0\n",
       "2         0         2      3  978301968.0\n",
       "3         0         3      4  978300275.0\n",
       "4         0         4      5  978824291.0\n",
       "..      ...       ...    ...          ...\n",
       "0      6040      2137      5          NaN\n",
       "1      6040      1099      5          NaN\n",
       "2      6040       897      5          NaN\n",
       "3      6040       717      5          NaN\n",
       "4      6040       545      5          NaN\n",
       "\n",
       "[836488 rows x 4 columns]"
      ]
     },
     "execution_count": 28,
     "metadata": {},
     "output_type": "execute_result"
    }
   ],
   "source": [
    "temp_user_data = ratings['user_id'].map(user_to_idx.get).dropna()\n",
    "if len(temp_user_data) == len(ratings):   \n",
    "    print('user_id column indexing OK!!')\n",
    "    ratings['user_id'] = temp_user_data    \n",
    "else:\n",
    "    print('user_id column indexing Fail!!')\n",
    "\n",
    "temp_movie_data = ratings['movie_id'].map(movie_to_idx.get).dropna()\n",
    "if len(temp_movie_data) == len(ratings):\n",
    "    print('movie column indexing OK!!')\n",
    "    ratings['movie_id'] = temp_movie_data\n",
    "else:\n",
    "    print('artist column indexing Fail!!')\n",
    "\n",
    "ratings"
   ]
  },
  {
   "cell_type": "markdown",
   "id": "looking-slope",
   "metadata": {},
   "source": [
    "## 4) CSR matrix를 직접 만들기"
   ]
  },
  {
   "cell_type": "code",
   "execution_count": 29,
   "id": "swedish-custom",
   "metadata": {},
   "outputs": [
    {
     "data": {
      "text/plain": [
       "<6041x3628 sparse matrix of type '<class 'numpy.int64'>'\n",
       "\twith 836488 stored elements in Compressed Sparse Row format>"
      ]
     },
     "execution_count": 29,
     "metadata": {},
     "output_type": "execute_result"
    }
   ],
   "source": [
    "from scipy.sparse import csr_matrix\n",
    "\n",
    "num_user = ratings['user_id'].nunique()\n",
    "num_movie = ratings['movie_id'].nunique()\n",
    "\n",
    "csr_data = csr_matrix((ratings['count'], (ratings.user_id, ratings.movie_id)), shape= (num_user, num_movie))\n",
    "csr_data"
   ]
  },
  {
   "cell_type": "markdown",
   "id": "authorized-maintenance",
   "metadata": {},
   "source": [
    "## 5) als_model = AlternatingLeastSquares 모델을 직접 구성하여 훈련"
   ]
  },
  {
   "cell_type": "markdown",
   "id": "married-daniel",
   "metadata": {},
   "source": [
    "사실 이 부분에서 어떻게 모델을 구성하라는 것인지 사실 이해를 못했으나 눈치껏 노드에 MF 모델이 있으니 그걸 사용해보겠습니다."
   ]
  },
  {
   "cell_type": "code",
   "execution_count": 30,
   "id": "equal-reducing",
   "metadata": {},
   "outputs": [],
   "source": [
    "from implicit.als import AlternatingLeastSquares\n",
    "import os\n",
    "import numpy as np\n",
    "\n",
    "os.environ['OPENBLAS_NUM_THREADS']='1'\n",
    "os.environ['KMP_DUPLICATE_LIB_OK']='True'\n",
    "os.environ['MKL_NUM_THREADS']='1'"
   ]
  },
  {
   "cell_type": "code",
   "execution_count": 31,
   "id": "unknown-provincial",
   "metadata": {},
   "outputs": [],
   "source": [
    "als_model = AlternatingLeastSquares(factors=100, regularization=0.01, use_gpu=False, iterations=15, dtype=np.float32)"
   ]
  },
  {
   "cell_type": "code",
   "execution_count": 32,
   "id": "wrapped-index",
   "metadata": {},
   "outputs": [
    {
     "data": {
      "text/plain": [
       "<3628x6041 sparse matrix of type '<class 'numpy.int64'>'\n",
       "\twith 836488 stored elements in Compressed Sparse Column format>"
      ]
     },
     "execution_count": 32,
     "metadata": {},
     "output_type": "execute_result"
    }
   ],
   "source": [
    "csr_data_transpose = csr_data.T\n",
    "csr_data_transpose"
   ]
  },
  {
   "cell_type": "code",
   "execution_count": 33,
   "id": "limiting-camcorder",
   "metadata": {},
   "outputs": [
    {
     "data": {
      "application/vnd.jupyter.widget-view+json": {
       "model_id": "0d0b9a91d7314a05b1aea3dbe1102e69",
       "version_major": 2,
       "version_minor": 0
      },
      "text/plain": [
       "  0%|          | 0/15 [00:00<?, ?it/s]"
      ]
     },
     "metadata": {},
     "output_type": "display_data"
    }
   ],
   "source": [
    "als_model.fit(csr_data_transpose)"
   ]
  },
  {
   "cell_type": "markdown",
   "id": "automatic-senate",
   "metadata": {},
   "source": [
    "## 6) 내가 선호하는 5가지 영화 중 하나와 그 외의 영화 하나를 골라 훈련된 모델이 예측한 나의 선호도를 파악하기"
   ]
  },
  {
   "cell_type": "code",
   "execution_count": 34,
   "id": "numeric-helmet",
   "metadata": {},
   "outputs": [
    {
     "name": "stdout",
     "output_type": "stream",
     "text": [
      "슝=3\n"
     ]
    }
   ],
   "source": [
    "hong, magica = user_to_idx['hong'], movie_to_idx[545]\n",
    "hong_vector, magica_vector = als_model.user_factors[hong], als_model.item_factors[magica]\n",
    "\n",
    "print('슝=3')"
   ]
  },
  {
   "cell_type": "markdown",
   "id": "geographic-wilderness",
   "metadata": {},
   "source": [
    "원래는 betty blowtorch, 2137로 하려 했으나 띄어쓰기 때문인지 invalid syntax가 나와 우선 magica 545로 바꿔봤다. 2137으로 했을때 위에처럼 Nan이 많이 나오지 않았는데 545로 하니 Nan이 많이 나왔다."
   ]
  },
  {
   "cell_type": "code",
   "execution_count": 35,
   "id": "spiritual-seeker",
   "metadata": {},
   "outputs": [
    {
     "data": {
      "text/plain": [
       "array([ 0.02621982,  0.2861235 ,  0.5058485 , -0.2868243 ,  0.45004666,\n",
       "       -0.07269838, -0.01819208, -0.06827383, -0.55487823,  0.14044607,\n",
       "       -0.22053562,  0.17966004, -0.05193571,  0.21894047, -0.12872495,\n",
       "       -0.00537793,  0.5689115 , -0.29613993,  0.39476097, -0.05342838,\n",
       "        0.09725819,  0.67801005, -0.53308904,  0.67795265, -0.33217543,\n",
       "       -0.19318473, -0.40535888, -0.1841298 ,  0.1704233 ,  0.48021257,\n",
       "        0.2567539 ,  0.03963212, -0.25189248, -0.12880218, -0.10316706,\n",
       "        0.12865892, -0.28571153,  0.3457199 ,  0.04960471, -0.2861416 ,\n",
       "        0.25848043,  0.6489091 , -0.22823246,  0.02841105, -0.13744944,\n",
       "        0.73574686, -0.31803247, -0.11621652, -0.12030667,  0.33885714,\n",
       "       -0.41058493,  0.7914482 , -0.23549406,  0.40118262, -0.83786863,\n",
       "       -0.6453801 ,  0.4691003 , -0.07037676, -0.5051146 , -0.17766163,\n",
       "       -0.44884622, -0.06449979,  0.07444172,  0.6684728 ,  0.2900348 ,\n",
       "       -0.49363485,  0.19489765,  0.18792722,  0.11055525,  0.06724849,\n",
       "       -0.24091318, -0.71635395,  0.5686779 , -0.09031697, -0.47580162,\n",
       "       -0.03557314,  0.4270543 ,  0.17256978, -0.61991674,  0.26424924,\n",
       "        0.14205973,  0.19153994,  0.11168989,  0.34318298,  0.05261008,\n",
       "       -0.42215243, -0.91816837, -0.58983076,  0.20850714,  0.18947232,\n",
       "       -0.14991704,  0.08832339,  0.30015737, -0.58186376, -0.13187994,\n",
       "        0.39507663, -0.4927006 ,  0.64030254,  0.5248994 ,  0.35917553],\n",
       "      dtype=float32)"
      ]
     },
     "execution_count": 35,
     "metadata": {},
     "output_type": "execute_result"
    }
   ],
   "source": [
    "hong_vector"
   ]
  },
  {
   "cell_type": "code",
   "execution_count": 36,
   "id": "requested-detection",
   "metadata": {},
   "outputs": [
    {
     "data": {
      "text/plain": [
       "array([ 5.1821815e-03,  1.0587677e-02,  1.0980408e-02, -2.0435459e-03,\n",
       "        9.8680761e-03,  2.8909938e-03,  2.9501617e-02,  4.4961413e-03,\n",
       "       -8.6380728e-03,  2.3264878e-03,  6.9822147e-03, -8.1929495e-04,\n",
       "       -8.8036386e-03,  8.6417738e-03, -1.4593807e-02, -3.6393504e-03,\n",
       "        1.0237023e-02, -1.4893112e-03,  4.1667516e-03, -3.8204915e-03,\n",
       "       -1.7019799e-02,  1.6945107e-02, -2.9382289e-03,  4.0160775e-02,\n",
       "       -1.6998356e-02,  6.1255302e-03, -2.5898437e-03,  6.7241126e-05,\n",
       "        1.1355064e-02,  8.1148883e-03,  2.2076868e-02, -8.0410467e-04,\n",
       "       -2.2236321e-03,  2.5017962e-03, -4.6716034e-03,  1.3620301e-02,\n",
       "        1.5527709e-02,  1.1631965e-02, -4.9525528e-04,  5.3904615e-03,\n",
       "        6.8854014e-03,  6.4680115e-03,  1.2418557e-02,  1.5752036e-02,\n",
       "        8.3405096e-03,  2.8047983e-02,  8.6836992e-03, -9.0351328e-03,\n",
       "       -6.2134606e-04,  2.7832214e-02, -2.1610877e-02,  2.7658751e-02,\n",
       "        6.3724327e-03,  1.1571410e-02,  1.3748418e-02, -9.6538980e-03,\n",
       "        4.2609037e-03,  2.6111028e-03, -2.1775481e-03, -1.3593158e-02,\n",
       "       -3.4556920e-03, -1.4461336e-02,  2.0065039e-02,  3.9857417e-02,\n",
       "        1.2075064e-02, -1.0635335e-03,  6.5530743e-03,  2.1129804e-02,\n",
       "        1.2306519e-02,  6.4689899e-03,  6.3310047e-03, -6.6395435e-03,\n",
       "        4.7708922e-03, -3.1061287e-04,  3.0221278e-03,  1.2639733e-02,\n",
       "        2.8788615e-02,  1.6821267e-02, -2.3832696e-02,  1.9522620e-02,\n",
       "        5.0412859e-03,  3.6797181e-02,  1.2255936e-02,  6.0231141e-03,\n",
       "        2.6874798e-03, -4.3588867e-03, -2.9527593e-02, -2.1524182e-02,\n",
       "        1.0800754e-02,  5.6620818e-03,  1.5082982e-03, -2.8520082e-03,\n",
       "       -1.7979424e-03, -4.3465910e-03,  1.3076440e-02,  6.2403819e-03,\n",
       "       -9.5310537e-03,  3.4789372e-02,  5.1510818e-03,  2.0266786e-02],\n",
       "      dtype=float32)"
      ]
     },
     "execution_count": 36,
     "metadata": {},
     "output_type": "execute_result"
    }
   ],
   "source": [
    "magica_vector"
   ]
  },
  {
   "cell_type": "code",
   "execution_count": 37,
   "id": "attempted-istanbul",
   "metadata": {},
   "outputs": [
    {
     "data": {
      "text/plain": [
       "0.32582128"
      ]
     },
     "execution_count": 37,
     "metadata": {},
     "output_type": "execute_result"
    }
   ],
   "source": [
    "np.dot(hong_vector, magica_vector)"
   ]
  },
  {
   "cell_type": "markdown",
   "id": "bridal-outside",
   "metadata": {},
   "source": [
    "노드 설명을 보면 1이 기준이라 0.49도 낮다고 했는데 0.32가 나왔다. 아마 랜덤으로 영화를 뽑아서 그런 것 같은데 지금은 시간이 없으니 일단 제출해놓고 데이터 분석에 대해서 좀더 알아봐야겠다."
   ]
  },
  {
   "cell_type": "markdown",
   "id": "metropolitan-reunion",
   "metadata": {},
   "source": [
    "## 7) 내가 좋아하는 영화와 비슷한 영화를 추천받기"
   ]
  },
  {
   "cell_type": "code",
   "execution_count": 38,
   "id": "cellular-transfer",
   "metadata": {},
   "outputs": [
    {
     "data": {
      "text/plain": [
       "[(1, 1.0),\n",
       " (284, 0.642957),\n",
       " (35, 0.6366633),\n",
       " (951, 0.5846794),\n",
       " (329, 0.5602242),\n",
       " (1986, 0.55007434),\n",
       " (1513, 0.53931993),\n",
       " (34, 0.5305506),\n",
       " (705, 0.52976316),\n",
       " (25, 0.5191251),\n",
       " (947, 0.51900524),\n",
       " (32, 0.51443714),\n",
       " (1556, 0.50660837),\n",
       " (3007, 0.5034905),\n",
       " (609, 0.5027095)]"
      ]
     },
     "execution_count": 38,
     "metadata": {},
     "output_type": "execute_result"
    }
   ],
   "source": [
    "movie_id = movie_to_idx[1]\n",
    "similar_movie = als_model.similar_items(movie_id, N=15)\n",
    "similar_movie"
   ]
  },
  {
   "cell_type": "code",
   "execution_count": 39,
   "id": "assured-chuck",
   "metadata": {},
   "outputs": [
    {
     "data": {
      "text/plain": [
       "[1, 284, 35, 951, 329, 1986, 1513, 34, 705, 25, 947, 32, 1556, 3007, 609]"
      ]
     },
     "execution_count": 39,
     "metadata": {},
     "output_type": "execute_result"
    }
   ],
   "source": [
    "idx_to_movie = {v:k for k,v in movie_to_idx.items()}\n",
    "[idx_to_movie[i[0]] for i in similar_movie]"
   ]
  },
  {
   "cell_type": "code",
   "execution_count": 40,
   "id": "enclosed-amber",
   "metadata": {},
   "outputs": [
    {
     "name": "stdout",
     "output_type": "stream",
     "text": [
      "슝=3\n"
     ]
    }
   ],
   "source": [
    "def get_similar_movie(movie_name: int):\n",
    "    movie_id = movie_to_idx[movie_name]\n",
    "    similar_movie = als_model.similar_items(movie_id)\n",
    "    similar_movie = [idx_to_movie[i[0]] for i in similar_movie]\n",
    "    return similar_movie\n",
    "\n",
    "print(\"슝=3\")"
   ]
  },
  {
   "cell_type": "code",
   "execution_count": 43,
   "id": "residential-bunny",
   "metadata": {},
   "outputs": [
    {
     "data": {
      "text/plain": [
       "[1, 284, 35, 951, 329, 1986, 1513, 34, 705, 25]"
      ]
     },
     "execution_count": 43,
     "metadata": {},
     "output_type": "execute_result"
    }
   ],
   "source": [
    "#movie_id 1번은 '토이 스토리'\n",
    "get_similar_movie(1)"
   ]
  },
  {
   "cell_type": "markdown",
   "id": "chronic-dialogue",
   "metadata": {},
   "source": [
    "## 8) 내가 가장 좋아할 만한 영화들을 추천받기"
   ]
  },
  {
   "cell_type": "code",
   "execution_count": 44,
   "id": "improving-proof",
   "metadata": {},
   "outputs": [
    {
     "data": {
      "text/plain": [
       "[(755, 0.24279442),\n",
       " (461, 0.21760005),\n",
       " (458, 0.20712234),\n",
       " (1853, 0.1968343),\n",
       " (1814, 0.19587734),\n",
       " (513, 0.18020287),\n",
       " (1887, 0.16841874),\n",
       " (909, 0.1680873),\n",
       " (596, 0.16415197),\n",
       " (688, 0.15858173),\n",
       " (812, 0.15653901),\n",
       " (463, 0.15307602),\n",
       " (173, 0.15170863),\n",
       " (486, 0.15132143),\n",
       " (669, 0.1470106),\n",
       " (675, 0.14575823),\n",
       " (1465, 0.1454271),\n",
       " (60, 0.1453163),\n",
       " (474, 0.14492722),\n",
       " (1130, 0.14387307)]"
      ]
     },
     "execution_count": 44,
     "metadata": {},
     "output_type": "execute_result"
    }
   ],
   "source": [
    "user = user_to_idx['hong']\n",
    "# recommend에서는 user*item CSR Matrix를 받습니다.\n",
    "movie_recommended = als_model.recommend(user, csr_data, N=20, filter_already_liked_items=True)\n",
    "movie_recommended"
   ]
  },
  {
   "cell_type": "code",
   "execution_count": 45,
   "id": "controlled-anatomy",
   "metadata": {},
   "outputs": [
    {
     "data": {
      "text/plain": [
       "[755,\n",
       " 461,\n",
       " 458,\n",
       " 1853,\n",
       " 1814,\n",
       " 513,\n",
       " 1887,\n",
       " 909,\n",
       " 596,\n",
       " 688,\n",
       " 812,\n",
       " 463,\n",
       " 173,\n",
       " 486,\n",
       " 669,\n",
       " 675,\n",
       " 1465,\n",
       " 60,\n",
       " 474,\n",
       " 1130]"
      ]
     },
     "execution_count": 45,
     "metadata": {},
     "output_type": "execute_result"
    }
   ],
   "source": [
    "[idx_to_movie[i[0]] for i in movie_recommended]"
   ]
  },
  {
   "cell_type": "code",
   "execution_count": 46,
   "id": "iraqi-aluminum",
   "metadata": {},
   "outputs": [],
   "source": [
    "glass_bottom_boat = movie_to_idx[3144]\n",
    "explain = als_model.explain(user, csr_data, itemid=glass_bottom_boat)"
   ]
  },
  {
   "cell_type": "code",
   "execution_count": 47,
   "id": "everyday-tamil",
   "metadata": {},
   "outputs": [
    {
     "data": {
      "text/plain": [
       "[(2137, 0.002161084584985504),\n",
       " (717, -0.00021323441818190037),\n",
       " (897, -0.00041779800914732346),\n",
       " (545, -0.0038486351280029077),\n",
       " (1099, -0.004836982572184133)]"
      ]
     },
     "execution_count": 47,
     "metadata": {},
     "output_type": "execute_result"
    }
   ],
   "source": [
    "[(idx_to_movie[i[0]], i[1]) for i in explain[1]]"
   ]
  },
  {
   "cell_type": "markdown",
   "id": "mounted-least",
   "metadata": {},
   "source": [
    "### 캐글을 진행하면서 데이터 이해가 매우 중요함을 느꼈다. 특히 팀원들과 데이터 이해하는 것에만 거의 캐글 진행 시간의 50% 이상을 사용했는데 그만큼 중요한 데이터 이해를 지금까지 소흘히 했다는 것을 반성한다.   \n",
    "\n",
    "### 하지만 이번 EXPLORATION에서 데이터에 대한 이해를 많이 하지 못했다. 캐글에서 했듯이 엑셀을 통해서 전체 데이터를 확인해보려고 했는데 파일이 너무 커서 그런지 자꾸 키는데 오류가 났다. 그래서 내가 선호하는 영화 id를 찾지 못하고 랜덤한 id를 입력했다 .그래서 그런지 수치도 낮게 나오고 이 모델이 정확하게 내가 선호하는 영화를 추천해주건지 막 와닿지는 않는다.  \n",
    "\n",
    "### 지금 약간 시간이 쫓겨서 일단 프로젝트를 제출하지만 좀더 시간을 들여서 데이터 이해를 어떻게 해야할까에 대한 고민을 해보고 팀원들에게 조언을 구해야겠다."
   ]
  },
  {
   "cell_type": "code",
   "execution_count": null,
   "id": "modern-thong",
   "metadata": {},
   "outputs": [],
   "source": []
  }
 ],
 "metadata": {
  "kernelspec": {
   "display_name": "Python 3",
   "language": "python",
   "name": "python3"
  },
  "language_info": {
   "codemirror_mode": {
    "name": "ipython",
    "version": 3
   },
   "file_extension": ".py",
   "mimetype": "text/x-python",
   "name": "python",
   "nbconvert_exporter": "python",
   "pygments_lexer": "ipython3",
   "version": "3.7.9"
  }
 },
 "nbformat": 4,
 "nbformat_minor": 5
}
