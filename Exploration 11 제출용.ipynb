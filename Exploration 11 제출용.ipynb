{
 "cells": [
  {
   "cell_type": "markdown",
   "id": "alike-breed",
   "metadata": {},
   "source": [
    "# 프로젝트: 뉴스기사 요약해보기"
   ]
  },
  {
   "cell_type": "markdown",
   "id": "reduced-hindu",
   "metadata": {},
   "source": [
    "**추상적 요약** 및 **추출적 요약** 모두 해보자"
   ]
  },
  {
   "cell_type": "markdown",
   "id": "automotive-waters",
   "metadata": {},
   "source": [
    "## Step 1. 데이터 수집하기"
   ]
  },
  {
   "cell_type": "markdown",
   "id": "pharmaceutical-fraud",
   "metadata": {},
   "source": [
    "뉴스 기사 데이터 사용 예정"
   ]
  },
  {
   "cell_type": "code",
   "execution_count": 2,
   "id": "veterinary-constant",
   "metadata": {},
   "outputs": [],
   "source": [
    "import pandas as pd\n",
    "import urllib.request\n",
    "urllib.request.urlretrieve(\"https://raw.githubusercontent.com/sunnysai12345/News_Summary/master/news_summary_more.csv\", filename=\"news_summary_more.csv\")\n",
    "data = pd.read_csv('news_summary_more.csv', encoding='iso-8859-1')"
   ]
  },
  {
   "cell_type": "code",
   "execution_count": 3,
   "id": "agreed-sender",
   "metadata": {},
   "outputs": [
    {
     "data": {
      "text/html": [
       "<div>\n",
       "<style scoped>\n",
       "    .dataframe tbody tr th:only-of-type {\n",
       "        vertical-align: middle;\n",
       "    }\n",
       "\n",
       "    .dataframe tbody tr th {\n",
       "        vertical-align: top;\n",
       "    }\n",
       "\n",
       "    .dataframe thead th {\n",
       "        text-align: right;\n",
       "    }\n",
       "</style>\n",
       "<table border=\"1\" class=\"dataframe\">\n",
       "  <thead>\n",
       "    <tr style=\"text-align: right;\">\n",
       "      <th></th>\n",
       "      <th>headlines</th>\n",
       "      <th>text</th>\n",
       "    </tr>\n",
       "  </thead>\n",
       "  <tbody>\n",
       "    <tr>\n",
       "      <th>88938</th>\n",
       "      <td>Apple CEO Cook wishes moms across the world on...</td>\n",
       "      <td>World's most valuable company Apple's CEO Tim ...</td>\n",
       "    </tr>\n",
       "    <tr>\n",
       "      <th>65608</th>\n",
       "      <td>Students protest shutdown of K'taka State Open...</td>\n",
       "      <td>Hundreds of students from across Karnataka gat...</td>\n",
       "    </tr>\n",
       "    <tr>\n",
       "      <th>15412</th>\n",
       "      <td>Tricolour displayed upside down at J&amp;K BJP ral...</td>\n",
       "      <td>The police on Friday filed an FIR against unkn...</td>\n",
       "    </tr>\n",
       "    <tr>\n",
       "      <th>26010</th>\n",
       "      <td>Won't allow Leone to use Kaur in web show titl...</td>\n",
       "      <td>The Shiromani Gurdwara Parbandhak Committee st...</td>\n",
       "    </tr>\n",
       "    <tr>\n",
       "      <th>4268</th>\n",
       "      <td>Mumbai bars, hotels, pubs can stay open on Dec...</td>\n",
       "      <td>Maharashtra government issued an order on Satu...</td>\n",
       "    </tr>\n",
       "    <tr>\n",
       "      <th>60068</th>\n",
       "      <td>Mumbai police arrests man 20 years after he co...</td>\n",
       "      <td>Mumbai police has arrested 60-year-old Shirish...</td>\n",
       "    </tr>\n",
       "    <tr>\n",
       "      <th>32112</th>\n",
       "      <td>Bill Gates praises Big B for his polio eradica...</td>\n",
       "      <td>Microsoft co-founder and world's second riches...</td>\n",
       "    </tr>\n",
       "    <tr>\n",
       "      <th>85009</th>\n",
       "      <td>Yuvraj Singh becomes 5th Indian to feature in ...</td>\n",
       "      <td>Indian middle-order batsman Yuvraj Singh becam...</td>\n",
       "    </tr>\n",
       "    <tr>\n",
       "      <th>31568</th>\n",
       "      <td>SoftBank still considering selling Flipkart st...</td>\n",
       "      <td>Japanese conglomerate SoftBank is still consid...</td>\n",
       "    </tr>\n",
       "    <tr>\n",
       "      <th>21605</th>\n",
       "      <td>How to turn off Google's location tracking on ...</td>\n",
       "      <td>Google tracks users' location even when they h...</td>\n",
       "    </tr>\n",
       "  </tbody>\n",
       "</table>\n",
       "</div>"
      ],
      "text/plain": [
       "                                               headlines  \\\n",
       "88938  Apple CEO Cook wishes moms across the world on...   \n",
       "65608  Students protest shutdown of K'taka State Open...   \n",
       "15412  Tricolour displayed upside down at J&K BJP ral...   \n",
       "26010  Won't allow Leone to use Kaur in web show titl...   \n",
       "4268   Mumbai bars, hotels, pubs can stay open on Dec...   \n",
       "60068  Mumbai police arrests man 20 years after he co...   \n",
       "32112  Bill Gates praises Big B for his polio eradica...   \n",
       "85009  Yuvraj Singh becomes 5th Indian to feature in ...   \n",
       "31568  SoftBank still considering selling Flipkart st...   \n",
       "21605  How to turn off Google's location tracking on ...   \n",
       "\n",
       "                                                    text  \n",
       "88938  World's most valuable company Apple's CEO Tim ...  \n",
       "65608  Hundreds of students from across Karnataka gat...  \n",
       "15412  The police on Friday filed an FIR against unkn...  \n",
       "26010  The Shiromani Gurdwara Parbandhak Committee st...  \n",
       "4268   Maharashtra government issued an order on Satu...  \n",
       "60068  Mumbai police has arrested 60-year-old Shirish...  \n",
       "32112  Microsoft co-founder and world's second riches...  \n",
       "85009  Indian middle-order batsman Yuvraj Singh becam...  \n",
       "31568  Japanese conglomerate SoftBank is still consid...  \n",
       "21605  Google tracks users' location even when they h...  "
      ]
     },
     "execution_count": 3,
     "metadata": {},
     "output_type": "execute_result"
    }
   ],
   "source": [
    "data.sample(10)"
   ]
  },
  {
   "cell_type": "markdown",
   "id": "female-august",
   "metadata": {},
   "source": [
    "## Step 2. 데이터 전처리하기 (추상적 요약)"
   ]
  },
  {
   "cell_type": "markdown",
   "id": "normal-treasure",
   "metadata": {},
   "source": [
    "**추상적 요약** - text를 본문/headlines를 이미 요약된 데이터로 모델 학습 가능  \n",
    "**추출적 요약** - text열만 사용"
   ]
  },
  {
   "cell_type": "markdown",
   "id": "cooperative-involvement",
   "metadata": {},
   "source": [
    "#### 중복 샘플 및 null 제거"
   ]
  },
  {
   "cell_type": "code",
   "execution_count": 5,
   "id": "russian-match",
   "metadata": {},
   "outputs": [
    {
     "name": "stdout",
     "output_type": "stream",
     "text": [
      "text 열에서 중복을 배제한 유일한 샘플의 수 : 98360\n",
      "headlines 열에서 중복을 배제한 유일한 샘플의 수 : 98280\n"
     ]
    }
   ],
   "source": [
    "print('text 열에서 중복을 배제한 유일한 샘플의 수 :', data['text'].nunique())\n",
    "print('headlines 열에서 중복을 배제한 유일한 샘플의 수 :', data['headlines'].nunique())"
   ]
  },
  {
   "cell_type": "code",
   "execution_count": 6,
   "id": "brilliant-international",
   "metadata": {},
   "outputs": [
    {
     "name": "stdout",
     "output_type": "stream",
     "text": [
      "전체 샘플수 : 98360\n"
     ]
    }
   ],
   "source": [
    "data.drop_duplicates(subset = ['text'], inplace = True)\n",
    "print('전체 샘플수 :',(len(data)))"
   ]
  },
  {
   "cell_type": "code",
   "execution_count": 7,
   "id": "molecular-currency",
   "metadata": {},
   "outputs": [
    {
     "name": "stdout",
     "output_type": "stream",
     "text": [
      "headlines    0\n",
      "text         0\n",
      "dtype: int64\n"
     ]
    }
   ],
   "source": [
    "print(data.isnull().sum())"
   ]
  },
  {
   "cell_type": "markdown",
   "id": "muslim-microwave",
   "metadata": {},
   "source": [
    "#### 불용어 제거"
   ]
  },
  {
   "cell_type": "code",
   "execution_count": 8,
   "id": "artistic-kingston",
   "metadata": {},
   "outputs": [
    {
     "name": "stdout",
     "output_type": "stream",
     "text": [
      "정규화 사전의 수:  120\n"
     ]
    }
   ],
   "source": [
    "contractions = {\"ain't\": \"is not\", \"aren't\": \"are not\",\"can't\": \"cannot\", \"'cause\": \"because\", \"could've\": \"could have\", \"couldn't\": \"could not\",\n",
    "                           \"didn't\": \"did not\",  \"doesn't\": \"does not\", \"don't\": \"do not\", \"hadn't\": \"had not\", \"hasn't\": \"has not\", \"haven't\": \"have not\",\n",
    "                           \"he'd\": \"he would\",\"he'll\": \"he will\", \"he's\": \"he is\", \"how'd\": \"how did\", \"how'd'y\": \"how do you\", \"how'll\": \"how will\", \"how's\": \"how is\",\n",
    "                           \"I'd\": \"I would\", \"I'd've\": \"I would have\", \"I'll\": \"I will\", \"I'll've\": \"I will have\",\"I'm\": \"I am\", \"I've\": \"I have\", \"i'd\": \"i would\",\n",
    "                           \"i'd've\": \"i would have\", \"i'll\": \"i will\",  \"i'll've\": \"i will have\",\"i'm\": \"i am\", \"i've\": \"i have\", \"isn't\": \"is not\", \"it'd\": \"it would\",\n",
    "                           \"it'd've\": \"it would have\", \"it'll\": \"it will\", \"it'll've\": \"it will have\",\"it's\": \"it is\", \"let's\": \"let us\", \"ma'am\": \"madam\",\n",
    "                           \"mayn't\": \"may not\", \"might've\": \"might have\",\"mightn't\": \"might not\",\"mightn't've\": \"might not have\", \"must've\": \"must have\",\n",
    "                           \"mustn't\": \"must not\", \"mustn't've\": \"must not have\", \"needn't\": \"need not\", \"needn't've\": \"need not have\",\"o'clock\": \"of the clock\",\n",
    "                           \"oughtn't\": \"ought not\", \"oughtn't've\": \"ought not have\", \"shan't\": \"shall not\", \"sha'n't\": \"shall not\", \"shan't've\": \"shall not have\",\n",
    "                           \"she'd\": \"she would\", \"she'd've\": \"she would have\", \"she'll\": \"she will\", \"she'll've\": \"she will have\", \"she's\": \"she is\",\n",
    "                           \"should've\": \"should have\", \"shouldn't\": \"should not\", \"shouldn't've\": \"should not have\", \"so've\": \"so have\",\"so's\": \"so as\",\n",
    "                           \"this's\": \"this is\",\"that'd\": \"that would\", \"that'd've\": \"that would have\", \"that's\": \"that is\", \"there'd\": \"there would\",\n",
    "                           \"there'd've\": \"there would have\", \"there's\": \"there is\", \"here's\": \"here is\",\"they'd\": \"they would\", \"they'd've\": \"they would have\",\n",
    "                           \"they'll\": \"they will\", \"they'll've\": \"they will have\", \"they're\": \"they are\", \"they've\": \"they have\", \"to've\": \"to have\",\n",
    "                           \"wasn't\": \"was not\", \"we'd\": \"we would\", \"we'd've\": \"we would have\", \"we'll\": \"we will\", \"we'll've\": \"we will have\", \"we're\": \"we are\",\n",
    "                           \"we've\": \"we have\", \"weren't\": \"were not\", \"what'll\": \"what will\", \"what'll've\": \"what will have\", \"what're\": \"what are\",\n",
    "                           \"what's\": \"what is\", \"what've\": \"what have\", \"when's\": \"when is\", \"when've\": \"when have\", \"where'd\": \"where did\", \"where's\": \"where is\",\n",
    "                           \"where've\": \"where have\", \"who'll\": \"who will\", \"who'll've\": \"who will have\", \"who's\": \"who is\", \"who've\": \"who have\",\n",
    "                           \"why's\": \"why is\", \"why've\": \"why have\", \"will've\": \"will have\", \"won't\": \"will not\", \"won't've\": \"will not have\",\n",
    "                           \"would've\": \"would have\", \"wouldn't\": \"would not\", \"wouldn't've\": \"would not have\", \"y'all\": \"you all\",\n",
    "                           \"y'all'd\": \"you all would\",\"y'all'd've\": \"you all would have\",\"y'all're\": \"you all are\",\"y'all've\": \"you all have\",\n",
    "                           \"you'd\": \"you would\", \"you'd've\": \"you would have\", \"you'll\": \"you will\", \"you'll've\": \"you will have\",\n",
    "                           \"you're\": \"you are\", \"you've\": \"you have\"}\n",
    "\n",
    "print(\"정규화 사전의 수: \",len(contractions))"
   ]
  },
  {
   "cell_type": "code",
   "execution_count": 11,
   "id": "egyptian-cocktail",
   "metadata": {},
   "outputs": [
    {
     "name": "stdout",
     "output_type": "stream",
     "text": [
      "불용어 개수 : 179\n",
      "['i', 'me', 'my', 'myself', 'we', 'our', 'ours', 'ourselves', 'you', \"you're\", \"you've\", \"you'll\", \"you'd\", 'your', 'yours', 'yourself', 'yourselves', 'he', 'him', 'his', 'himself', 'she', \"she's\", 'her', 'hers', 'herself', 'it', \"it's\", 'its', 'itself', 'they', 'them', 'their', 'theirs', 'themselves', 'what', 'which', 'who', 'whom', 'this', 'that', \"that'll\", 'these', 'those', 'am', 'is', 'are', 'was', 'were', 'be', 'been', 'being', 'have', 'has', 'had', 'having', 'do', 'does', 'did', 'doing', 'a', 'an', 'the', 'and', 'but', 'if', 'or', 'because', 'as', 'until', 'while', 'of', 'at', 'by', 'for', 'with', 'about', 'against', 'between', 'into', 'through', 'during', 'before', 'after', 'above', 'below', 'to', 'from', 'up', 'down', 'in', 'out', 'on', 'off', 'over', 'under', 'again', 'further', 'then', 'once', 'here', 'there', 'when', 'where', 'why', 'how', 'all', 'any', 'both', 'each', 'few', 'more', 'most', 'other', 'some', 'such', 'no', 'nor', 'not', 'only', 'own', 'same', 'so', 'than', 'too', 'very', 's', 't', 'can', 'will', 'just', 'don', \"don't\", 'should', \"should've\", 'now', 'd', 'll', 'm', 'o', 're', 've', 'y', 'ain', 'aren', \"aren't\", 'couldn', \"couldn't\", 'didn', \"didn't\", 'doesn', \"doesn't\", 'hadn', \"hadn't\", 'hasn', \"hasn't\", 'haven', \"haven't\", 'isn', \"isn't\", 'ma', 'mightn', \"mightn't\", 'mustn', \"mustn't\", 'needn', \"needn't\", 'shan', \"shan't\", 'shouldn', \"shouldn't\", 'wasn', \"wasn't\", 'weren', \"weren't\", 'won', \"won't\", 'wouldn', \"wouldn't\"]\n"
     ]
    },
    {
     "name": "stderr",
     "output_type": "stream",
     "text": [
      "[nltk_data] Downloading package stopwords to /home/aiffel-\n",
      "[nltk_data]     dj43/nltk_data...\n",
      "[nltk_data]   Package stopwords is already up-to-date!\n"
     ]
    }
   ],
   "source": [
    "import nltk\n",
    "nltk.download('stopwords')\n",
    "from nltk.corpus import stopwords\n",
    "\n",
    "print('불용어 개수 :', len(stopwords.words('english') ))\n",
    "print(stopwords.words('english'))"
   ]
  },
  {
   "cell_type": "code",
   "execution_count": 14,
   "id": "forbidden-barrel",
   "metadata": {},
   "outputs": [],
   "source": [
    "#데이터 전처리 함수\n",
    "def preprocess_sentence(sentence, remove_stopwords=True):\n",
    "    sentence = sentence.lower() # 텍스트 소문자화\n",
    "    sentence = BeautifulSoup(sentence, \"lxml\").text # <br />, <a href = ...> 등의 html 태그 제거\n",
    "    sentence = re.sub(r'\\([^)]*\\)', '', sentence) # 괄호로 닫힌 문자열 (...) 제거 Ex) my husband (and myself!) for => my husband for\n",
    "    sentence = re.sub('\"','', sentence) # 쌍따옴표 \" 제거\n",
    "    sentence = ' '.join([contractions[t] if t in contractions else t for t in sentence.split(\" \")]) # 약어 정규화\n",
    "    sentence = re.sub(r\"'s\\b\",\"\",sentence) # 소유격 제거. Ex) roland's -> roland\n",
    "    sentence = re.sub(\"[^a-zA-Z]\", \" \", sentence) # 영어 외 문자(숫자, 특수문자 등) 공백으로 변환\n",
    "    sentence = re.sub('[m]{2,}', 'mm', sentence) # m이 3개 이상이면 2개로 변경. Ex) ummmmmmm yeah -> umm yeah\n",
    "    \n",
    "    # 불용어 제거 (Text)\n",
    "    if remove_stopwords:\n",
    "        tokens = ' '.join(word for word in sentence.split() if not word in stopwords.words('english') if len(word) > 1)\n",
    "    # 불용어 미제거 (Summary)\n",
    "    else:\n",
    "        tokens = ' '.join(word for word in sentence.split() if len(word) > 1)\n",
    "    return tokens"
   ]
  },
  {
   "cell_type": "code",
   "execution_count": 16,
   "id": "located-twenty",
   "metadata": {},
   "outputs": [
    {
     "data": {
      "text/plain": [
       "['saurav kant alumnus upgrad iiit pg program machine learning artificial intelligence sr systems engineer infosys almost years work experience program upgrad degree career support helped transition data scientist tech mahindra salary hike upgrad online power learning powered lakh careers',\n",
       " 'kunal shah credit card bill payment platform cred gave users chance win free food swiggy one year pranav kaushik delhi techie bagged reward spending cred coins users get one cred coin per rupee bill paid used avail rewards brands like ixigo bookmyshow ubereats cult fit',\n",
       " 'new zealand defeated india wickets fourth odi hamilton thursday win first match five match odi series india lost international match rohit sharma captaincy consecutive victories dating back march match witnessed india getting seventh lowest total odi cricket history',\n",
       " 'aegon life iterm insurance plan customers enjoy tax benefits premiums paid save taxes plan provides life cover age years also customers options insure critical illnesses disability accidental death benefit rider life cover age years',\n",
       " 'speaking sexual harassment allegations rajkumar hirani sonam kapoor said known hirani many years true metoo movement get derailed metoo movement always believe woman case need reserve judgment added hirani accused assistant worked sanju']"
      ]
     },
     "execution_count": 16,
     "metadata": {},
     "output_type": "execute_result"
    }
   ],
   "source": [
    "import re\n",
    "from bs4 import BeautifulSoup\n",
    "\n",
    "clean_text = []\n",
    "\n",
    "# 전체 Text 데이터에 대한 전처리 : 10분 이상 시간이 걸릴 수 있습니다. \n",
    "for s in data['text']:\n",
    "    clean_text.append(preprocess_sentence(s))\n",
    "\n",
    "# 전처리 후 출력\n",
    "clean_text[:5]"
   ]
  },
  {
   "cell_type": "code",
   "execution_count": 20,
   "id": "egyptian-clarity",
   "metadata": {},
   "outputs": [
    {
     "data": {
      "text/plain": [
       "['upgrad learner switches to career in ml al with salary hike',\n",
       " 'delhi techie wins free food from swiggy for one year on cred',\n",
       " 'new zealand end rohit sharma led india match winning streak',\n",
       " 'aegon life iterm insurance plan helps customers save tax',\n",
       " 'have known hirani for yrs what if metoo claims are not true sonam']"
      ]
     },
     "execution_count": 20,
     "metadata": {},
     "output_type": "execute_result"
    }
   ],
   "source": [
    "clean_headlines = []\n",
    "\n",
    "# 전체 Summary 데이터에 대한 전처리 : 5분 이상 시간이 걸릴 수 있습니다. \n",
    "for s in data['headlines']:\n",
    "    clean_headlines.append(preprocess_sentence(s, False))\n",
    "\n",
    "clean_headlines[:5]"
   ]
  },
  {
   "cell_type": "code",
   "execution_count": 22,
   "id": "peaceful-sensitivity",
   "metadata": {},
   "outputs": [],
   "source": [
    "import numpy as np\n",
    "\n",
    "data['text'] = clean_text\n",
    "data['headlines'] = clean_headlines\n",
    "\n",
    "# 빈 값을 Null 값으로 변환\n",
    "data.replace('', np.nan, inplace=True)"
   ]
  },
  {
   "cell_type": "code",
   "execution_count": 23,
   "id": "third-adrian",
   "metadata": {},
   "outputs": [
    {
     "data": {
      "text/plain": [
       "headlines    0\n",
       "text         0\n",
       "dtype: int64"
      ]
     },
     "execution_count": 23,
     "metadata": {},
     "output_type": "execute_result"
    }
   ],
   "source": [
    "data.isnull().sum()"
   ]
  },
  {
   "cell_type": "code",
   "execution_count": 24,
   "id": "billion-cisco",
   "metadata": {},
   "outputs": [
    {
     "name": "stdout",
     "output_type": "stream",
     "text": [
      "전체 샘플수 : 98360\n"
     ]
    }
   ],
   "source": [
    "data.dropna(axis=0, inplace=True)\n",
    "print('전체 샘플수 :',(len(data)))#데이터 전처리 함수"
   ]
  },
  {
   "cell_type": "markdown",
   "id": "removed-voluntary",
   "metadata": {},
   "source": [
    "### 사실 위에서 처리를 했음에도 샘플수가 변하지 않는 것을 보면 데이터에 구디 처리가 필요하지 않음을 알 수 있다."
   ]
  },
  {
   "cell_type": "markdown",
   "id": "engaged-variation",
   "metadata": {},
   "source": [
    "#### 훈련데이터와 테스트데이터 나누기"
   ]
  },
  {
   "cell_type": "markdown",
   "id": "coupled-holly",
   "metadata": {},
   "source": [
    "##### 샘플의 최대 길이 정하기"
   ]
  },
  {
   "cell_type": "code",
   "execution_count": 27,
   "id": "baking-retrieval",
   "metadata": {},
   "outputs": [
    {
     "name": "stdout",
     "output_type": "stream",
     "text": [
      "텍스트의 최소 길이 : 1\n",
      "텍스트의 최대 길이 : 60\n",
      "텍스트의 평균 길이 : 35.09968483123221\n",
      "요약의 최소 길이 : 1\n",
      "요약의 최대 길이 : 16\n",
      "요약의 평균 길이 : 9.299532330215534\n"
     ]
    },
    {
     "data": {
      "image/png": "[encoded data removed]",
      "text/plain": [
       "<Figure size 432x288 with 2 Axes>"
      ]
     },
     "metadata": {
      "needs_background": "light"
     },
     "output_type": "display_data"
    },
    {
     "data": {
      "image/png": "[encoded data removed]",
      "text/plain": [
       "<Figure size 432x288 with 1 Axes>"
      ]
     },
     "metadata": {
      "needs_background": "light"
     },
     "output_type": "display_data"
    },
    {
     "data": {
      "image/png": "[encoded data removed]",
      "text/plain": [
       "<Figure size 432x288 with 1 Axes>"
      ]
     },
     "metadata": {
      "needs_background": "light"
     },
     "output_type": "display_data"
    }
   ],
   "source": [
    "import matplotlib.pyplot as plt\n",
    "\n",
    "text_len = [len(s.split()) for s in data['text']]\n",
    "headlines_len = [len(s.split()) for s in data['headlines']]\n",
    "\n",
    "print('텍스트의 최소 길이 : {}'.format(np.min(text_len)))\n",
    "print('텍스트의 최대 길이 : {}'.format(np.max(text_len)))\n",
    "print('텍스트의 평균 길이 : {}'.format(np.mean(text_len)))\n",
    "print('요약의 최소 길이 : {}'.format(np.min(headlines_len)))\n",
    "print('요약의 최대 길이 : {}'.format(np.max(headlines_len)))\n",
    "print('요약의 평균 길이 : {}'.format(np.mean(headlines_len)))\n",
    "\n",
    "plt.subplot(1,2,1)\n",
    "plt.boxplot(headlines_len)\n",
    "plt.title('headlines')\n",
    "plt.subplot(1,2,2)\n",
    "plt.boxplot(text_len)\n",
    "plt.title('text')\n",
    "plt.tight_layout()\n",
    "plt.show()\n",
    "\n",
    "plt.title('Headlines')\n",
    "plt.hist(headlines_len, bins = 40)\n",
    "plt.xlabel('length of samples')\n",
    "plt.ylabel('number of samples')\n",
    "plt.show()\n",
    "\n",
    "plt.title('text')\n",
    "plt.hist(text_len, bins = 40)\n",
    "plt.xlabel('length of samples')\n",
    "plt.ylabel('number of samples')\n",
    "plt.show()"
   ]
  },
  {
   "cell_type": "markdown",
   "id": "single-chosen",
   "metadata": {},
   "source": [
    "데이터가 비교적 집중되어 있음을 알 수 있다.  \n",
    "  \n",
    "Text의 최대 길이와 Summary의 적절한 최대 길이를 임의로 설정, 임의라고는 하는데 정확히 뭐가 기준인지는 모르겠다."
   ]
  },
  {
   "cell_type": "code",
   "execution_count": 28,
   "id": "advance-entrance",
   "metadata": {},
   "outputs": [],
   "source": [
    "text_max_len = 50\n",
    "headlines_max_len = 9"
   ]
  },
  {
   "cell_type": "code",
   "execution_count": 29,
   "id": "clear-jenny",
   "metadata": {},
   "outputs": [],
   "source": [
    "def below_threshold_len(max_len, nested_list):\n",
    "  cnt = 0\n",
    "  for s in nested_list:\n",
    "    if(len(s.split()) <= max_len):\n",
    "        cnt = cnt + 1\n",
    "  print('전체 샘플 중 길이가 %s 이하인 샘플의 비율: %s'%(max_len, (cnt / len(nested_list))))"
   ]
  },
  {
   "cell_type": "code",
   "execution_count": 31,
   "id": "gothic-balance",
   "metadata": {},
   "outputs": [
    {
     "name": "stdout",
     "output_type": "stream",
     "text": [
      "전체 샘플 중 길이가 50 이하인 샘플의 비율: 0.9998576657177715\n",
      "전체 샘플 중 길이가 9 이하인 샘플의 비율: 0.5666022773485156\n"
     ]
    }
   ],
   "source": [
    "below_threshold_len(text_max_len, data['text'])\n",
    "below_threshold_len(headlines_max_len,  data['headlines'])"
   ]
  },
  {
   "cell_type": "markdown",
   "id": "painful-admission",
   "metadata": {},
   "source": [
    "노드에서 했던 것과 비교하면 0.7/0.94였는데 여기서는 0.99/0.56이다."
   ]
  },
  {
   "cell_type": "code",
   "execution_count": 38,
   "id": "combined-period",
   "metadata": {},
   "outputs": [
    {
     "name": "stdout",
     "output_type": "stream",
     "text": [
      "전체 샘플수 : 8726\n"
     ]
    }
   ],
   "source": [
    "data = data[data['text'].apply(lambda x: len(x.split()) <= text_max_len)]\n",
    "data = data[data['headlines'].apply(lambda x: len(x.split()) <= headlines_max_len)]\n",
    "print('전체 샘플수 :',(len(data)))"
   ]
  },
  {
   "cell_type": "markdown",
   "id": "marked-springer",
   "metadata": {},
   "source": [
    "샘플수가 너무 차이가 나는 것 같다..."
   ]
  },
  {
   "cell_type": "code",
   "execution_count": 51,
   "id": "decreased-school",
   "metadata": {},
   "outputs": [
    {
     "data": {
      "text/html": [
       "<div>\n",
       "<style scoped>\n",
       "    .dataframe tbody tr th:only-of-type {\n",
       "        vertical-align: middle;\n",
       "    }\n",
       "\n",
       "    .dataframe tbody tr th {\n",
       "        vertical-align: top;\n",
       "    }\n",
       "\n",
       "    .dataframe thead th {\n",
       "        text-align: right;\n",
       "    }\n",
       "</style>\n",
       "<table border=\"1\" class=\"dataframe\">\n",
       "  <thead>\n",
       "    <tr style=\"text-align: right;\">\n",
       "      <th></th>\n",
       "      <th>headlines</th>\n",
       "      <th>text</th>\n",
       "      <th>decoder_input</th>\n",
       "      <th>decoder_target</th>\n",
       "    </tr>\n",
       "  </thead>\n",
       "  <tbody>\n",
       "    <tr>\n",
       "      <th>22</th>\n",
       "      <td>killed injured in saudi arabia floods</td>\n",
       "      <td>least people killed others injured saudi arabi...</td>\n",
       "      <td>sostoken killed injured in saudi arabia floods</td>\n",
       "      <td>killed injured in saudi arabia floods eostoken</td>\n",
       "    </tr>\n",
       "    <tr>\n",
       "      <th>37</th>\n",
       "      <td>pakistan holds keys to war afghanistan</td>\n",
       "      <td>afghan president ashraf ghani said keys war pa...</td>\n",
       "      <td>sostoken pakistan holds keys to war afghanistan</td>\n",
       "      <td>pakistan holds keys to war afghanistan eostoken</td>\n",
       "    </tr>\n",
       "    <tr>\n",
       "      <th>41</th>\n",
       "      <td>fashion brand hires facebook data scandal whis...</td>\n",
       "      <td>swedish multinational fast fashion brand henne...</td>\n",
       "      <td>sostoken fashion brand hires facebook data sca...</td>\n",
       "      <td>fashion brand hires facebook data scandal whis...</td>\n",
       "    </tr>\n",
       "    <tr>\n",
       "      <th>52</th>\n",
       "      <td>headlines</td>\n",
       "      <td>text</td>\n",
       "      <td>sostoken headlines</td>\n",
       "      <td>headlines eostoken</td>\n",
       "    </tr>\n",
       "    <tr>\n",
       "      <th>65</th>\n",
       "      <td>qatar to invest million in airtel africa</td>\n",
       "      <td>airtel wednesday said qatar sovereign wealth f...</td>\n",
       "      <td>sostoken qatar to invest million in airtel africa</td>\n",
       "      <td>qatar to invest million in airtel africa eostoken</td>\n",
       "    </tr>\n",
       "  </tbody>\n",
       "</table>\n",
       "</div>"
      ],
      "text/plain": [
       "                                            headlines  \\\n",
       "22              killed injured in saudi arabia floods   \n",
       "37             pakistan holds keys to war afghanistan   \n",
       "41  fashion brand hires facebook data scandal whis...   \n",
       "52                                          headlines   \n",
       "65           qatar to invest million in airtel africa   \n",
       "\n",
       "                                                 text  \\\n",
       "22  least people killed others injured saudi arabi...   \n",
       "37  afghan president ashraf ghani said keys war pa...   \n",
       "41  swedish multinational fast fashion brand henne...   \n",
       "52                                               text   \n",
       "65  airtel wednesday said qatar sovereign wealth f...   \n",
       "\n",
       "                                        decoder_input  \\\n",
       "22     sostoken killed injured in saudi arabia floods   \n",
       "37    sostoken pakistan holds keys to war afghanistan   \n",
       "41  sostoken fashion brand hires facebook data sca...   \n",
       "52                                 sostoken headlines   \n",
       "65  sostoken qatar to invest million in airtel africa   \n",
       "\n",
       "                                       decoder_target  \n",
       "22     killed injured in saudi arabia floods eostoken  \n",
       "37    pakistan holds keys to war afghanistan eostoken  \n",
       "41  fashion brand hires facebook data scandal whis...  \n",
       "52                                 headlines eostoken  \n",
       "65  qatar to invest million in airtel africa eostoken  "
      ]
     },
     "execution_count": 51,
     "metadata": {},
     "output_type": "execute_result"
    }
   ],
   "source": [
    "#요약 데이터에는 시작 토큰과 종료 토큰을 추가한다.\n",
    "data['decoder_input'] = data['headlines'].apply(lambda x : 'sostoken '+ x)\n",
    "data['decoder_target'] = data['headlines'].apply(lambda x : x + ' eostoken')\n",
    "data.head()"
   ]
  },
  {
   "cell_type": "code",
   "execution_count": 52,
   "id": "naked-equation",
   "metadata": {},
   "outputs": [],
   "source": [
    "encoder_input = np.array(data['text']) # 인코더의 입력\n",
    "decoder_input = np.array(data['decoder_input']) # 디코더의 입력\n",
    "decoder_target = np.array(data['decoder_target']) # 디코더의 레이블"
   ]
  },
  {
   "cell_type": "code",
   "execution_count": 53,
   "id": "painted-culture",
   "metadata": {},
   "outputs": [
    {
     "name": "stdout",
     "output_type": "stream",
     "text": [
      "[7092 3146 4261 ... 6894 7751 2449]\n"
     ]
    }
   ],
   "source": [
    "indices = np.arange(encoder_input.shape[0])\n",
    "np.random.shuffle(indices)\n",
    "print(indices)"
   ]
  },
  {
   "cell_type": "code",
   "execution_count": 54,
   "id": "provincial-indiana",
   "metadata": {},
   "outputs": [],
   "source": [
    "encoder_input = encoder_input[indices]\n",
    "decoder_input = decoder_input[indices]\n",
    "decoder_target = decoder_target[indices]"
   ]
  },
  {
   "cell_type": "code",
   "execution_count": 55,
   "id": "molecular-assist",
   "metadata": {},
   "outputs": [
    {
     "name": "stdout",
     "output_type": "stream",
     "text": [
      "테스트 데이터의 수 : 1745\n"
     ]
    }
   ],
   "source": [
    "n_of_val = int(len(encoder_input)*0.2)\n",
    "print('테스트 데이터의 수 :',n_of_val)"
   ]
  },
  {
   "cell_type": "code",
   "execution_count": 56,
   "id": "normal-policy",
   "metadata": {},
   "outputs": [
    {
     "name": "stdout",
     "output_type": "stream",
     "text": [
      "훈련 데이터의 개수 : 6981\n",
      "훈련 레이블의 개수 : 6981\n",
      "테스트 데이터의 개수 : 1745\n",
      "테스트 레이블의 개수 : 1745\n"
     ]
    }
   ],
   "source": [
    "encoder_input_train = encoder_input[:-n_of_val]\n",
    "decoder_input_train = decoder_input[:-n_of_val]\n",
    "decoder_target_train = decoder_target[:-n_of_val]\n",
    "\n",
    "encoder_input_test = encoder_input[-n_of_val:]\n",
    "decoder_input_test = decoder_input[-n_of_val:]\n",
    "decoder_target_test = decoder_target[-n_of_val:]\n",
    "\n",
    "print('훈련 데이터의 개수 :', len(encoder_input_train))\n",
    "print('훈련 레이블의 개수 :',len(decoder_input_train))\n",
    "print('테스트 데이터의 개수 :',len(encoder_input_test))\n",
    "print('테스트 레이블의 개수 :',len(decoder_input_test))"
   ]
  },
  {
   "cell_type": "markdown",
   "id": "great-salad",
   "metadata": {},
   "source": [
    "#### 정수 인코딩"
   ]
  },
  {
   "cell_type": "code",
   "execution_count": 58,
   "id": "further-joyce",
   "metadata": {},
   "outputs": [],
   "source": [
    "from tensorflow.keras.preprocessing.text import Tokenizer\n",
    "\n",
    "src_tokenizer = Tokenizer() # 토크나이저 정의\n",
    "src_tokenizer.fit_on_texts(encoder_input_train) # 입력된 데이터로부터 단어 집합 생성"
   ]
  },
  {
   "cell_type": "code",
   "execution_count": 59,
   "id": "residential-checklist",
   "metadata": {},
   "outputs": [
    {
     "name": "stdout",
     "output_type": "stream",
     "text": [
      "단어 집합(vocabulary)의 크기 : 26004\n",
      "등장 빈도가 6번 이하인 희귀 단어의 수: 20278\n",
      "단어 집합에서 희귀 단어를 제외시킬 경우의 단어 집합의 크기 5726\n",
      "단어 집합에서 희귀 단어의 비율: 77.98031072142747\n",
      "전체 등장 빈도에서 희귀 단어 등장 빈도 비율: 16.709259941843797\n"
     ]
    }
   ],
   "source": [
    "threshold = 7\n",
    "total_cnt = len(src_tokenizer.word_index) # 단어의 수\n",
    "rare_cnt = 0 # 등장 빈도수가 threshold보다 작은 단어의 개수를 카운트\n",
    "total_freq = 0 # 훈련 데이터의 전체 단어 빈도수 총 합\n",
    "rare_freq = 0 # 등장 빈도수가 threshold보다 작은 단어의 등장 빈도수의 총 합\n",
    "\n",
    "# 단어와 빈도수의 쌍(pair)을 key와 value로 받는다.\n",
    "for key, value in src_tokenizer.word_counts.items():\n",
    "    total_freq = total_freq + value\n",
    "\n",
    "    # 단어의 등장 빈도수가 threshold보다 작으면\n",
    "    if(value < threshold):\n",
    "        rare_cnt = rare_cnt + 1\n",
    "        rare_freq = rare_freq + value\n",
    "\n",
    "print('단어 집합(vocabulary)의 크기 :',total_cnt)\n",
    "print('등장 빈도가 %s번 이하인 희귀 단어의 수: %s'%(threshold - 1, rare_cnt))\n",
    "print('단어 집합에서 희귀 단어를 제외시킬 경우의 단어 집합의 크기 %s'%(total_cnt - rare_cnt))\n",
    "print(\"단어 집합에서 희귀 단어의 비율:\", (rare_cnt / total_cnt)*100)\n",
    "print(\"전체 등장 빈도에서 희귀 단어 등장 빈도 비율:\", (rare_freq / total_freq)*100)"
   ]
  },
  {
   "cell_type": "code",
   "execution_count": 60,
   "id": "international-participant",
   "metadata": {},
   "outputs": [],
   "source": [
    "src_vocab = 8000\n",
    "src_tokenizer = Tokenizer(num_words = src_vocab) # 단어 집합의 크기를 8,000으로 제한\n",
    "src_tokenizer.fit_on_texts(encoder_input_train) # 단어 집합 재생성."
   ]
  },
  {
   "cell_type": "code",
   "execution_count": 61,
   "id": "fifth-plenty",
   "metadata": {},
   "outputs": [
    {
     "name": "stdout",
     "output_type": "stream",
     "text": [
      "[[786, 9, 92, 5727, 36, 4302, 164, 6495, 7487, 2896, 1349, 6496, 435, 3484, 2896, 816, 4303, 3485, 223, 4666, 544, 7488, 2896, 31, 39, 4302, 876, 2143, 5727, 71, 1027, 1502, 5728, 92, 1], [2046, 132, 62, 11, 9, 7489, 3486, 600, 214, 1350, 161, 2046, 27, 1650, 3, 613, 245, 567, 14, 40, 214, 176, 766, 859, 245], [7490, 60, 2743, 7491, 601, 4304, 221, 3722, 700, 530, 18, 274, 621, 51, 644, 2047, 274, 1503, 39, 435, 39, 33, 7490, 166, 3080, 1709, 2744, 300, 2504, 192, 1071, 1404, 1229, 2144, 1651]]\n"
     ]
    }
   ],
   "source": [
    "# 텍스트 시퀀스를 정수 시퀀스로 변환\n",
    "encoder_input_train = src_tokenizer.texts_to_sequences(encoder_input_train) \n",
    "encoder_input_test = src_tokenizer.texts_to_sequences(encoder_input_test)\n",
    "\n",
    "#잘 진행되었는지 샘플 출력\n",
    "print(encoder_input_train[:3])"
   ]
  },
  {
   "cell_type": "code",
   "execution_count": 62,
   "id": "academic-money",
   "metadata": {},
   "outputs": [],
   "source": [
    "tar_tokenizer = Tokenizer()\n",
    "tar_tokenizer.fit_on_texts(decoder_input_train)"
   ]
  },
  {
   "cell_type": "code",
   "execution_count": 63,
   "id": "boxed-occasion",
   "metadata": {},
   "outputs": [
    {
     "name": "stdout",
     "output_type": "stream",
     "text": [
      "단어 집합(vocabulary)의 크기 : 10650\n",
      "등장 빈도가 5번 이하인 희귀 단어의 수: 9017\n",
      "단어 집합에서 희귀 단어를 제외시킬 경우의 단어 집합의 크기 1633\n",
      "단어 집합에서 희귀 단어의 비율: 84.66666666666667\n",
      "전체 등장 빈도에서 희귀 단어 등장 빈도 비율: 28.672595824935748\n"
     ]
    }
   ],
   "source": [
    "threshold = 6\n",
    "total_cnt = len(tar_tokenizer.word_index) # 단어의 수\n",
    "rare_cnt = 0 # 등장 빈도수가 threshold보다 작은 단어의 개수를 카운트\n",
    "total_freq = 0 # 훈련 데이터의 전체 단어 빈도수 총 합\n",
    "rare_freq = 0 # 등장 빈도수가 threshold보다 작은 단어의 등장 빈도수의 총 합\n",
    "\n",
    "# 단어와 빈도수의 쌍(pair)을 key와 value로 받는다.\n",
    "for key, value in tar_tokenizer.word_counts.items():\n",
    "    total_freq = total_freq + value\n",
    "\n",
    "    # 단어의 등장 빈도수가 threshold보다 작으면\n",
    "    if(value < threshold):\n",
    "        rare_cnt = rare_cnt + 1\n",
    "        rare_freq = rare_freq + value\n",
    "\n",
    "print('단어 집합(vocabulary)의 크기 :',total_cnt)\n",
    "print('등장 빈도가 %s번 이하인 희귀 단어의 수: %s'%(threshold - 1, rare_cnt))\n",
    "print('단어 집합에서 희귀 단어를 제외시킬 경우의 단어 집합의 크기 %s'%(total_cnt - rare_cnt))\n",
    "print(\"단어 집합에서 희귀 단어의 비율:\", (rare_cnt / total_cnt)*100)\n",
    "print(\"전체 등장 빈도에서 희귀 단어 등장 빈도 비율:\", (rare_freq / total_freq)*100)"
   ]
  },
  {
   "cell_type": "code",
   "execution_count": 64,
   "id": "timely-forward",
   "metadata": {},
   "outputs": [
    {
     "name": "stdout",
     "output_type": "stream",
     "text": [
      "input\n",
      "input  [[1, 4, 278], [1, 1375, 38, 5, 216], [1, 94, 687, 159, 118], [1, 1183, 396, 349, 372, 1994, 1376], [1, 776, 688, 459, 95, 167]]\n",
      "target\n",
      "decoder  [[4, 278, 2], [1375, 38, 5, 216, 2], [94, 687, 159, 118, 2], [1183, 396, 349, 372, 1994, 1376, 2], [776, 688, 459, 95, 167, 2]]\n"
     ]
    }
   ],
   "source": [
    "tar_vocab = 2000\n",
    "tar_tokenizer = Tokenizer(num_words = tar_vocab) \n",
    "tar_tokenizer.fit_on_texts(decoder_input_train)\n",
    "tar_tokenizer.fit_on_texts(decoder_target_train)\n",
    "\n",
    "# 텍스트 시퀀스를 정수 시퀀스로 변환\n",
    "decoder_input_train = tar_tokenizer.texts_to_sequences(decoder_input_train) \n",
    "decoder_target_train = tar_tokenizer.texts_to_sequences(decoder_target_train)\n",
    "decoder_input_test = tar_tokenizer.texts_to_sequences(decoder_input_test)\n",
    "decoder_target_test = tar_tokenizer.texts_to_sequences(decoder_target_test)\n",
    "\n",
    "#잘 변환되었는지 확인\n",
    "print('input')\n",
    "print('input ',decoder_input_train[:5])\n",
    "print('target')\n",
    "print('decoder ',decoder_target_train[:5])"
   ]
  },
  {
   "cell_type": "code",
   "execution_count": 65,
   "id": "powerful-wireless",
   "metadata": {},
   "outputs": [
    {
     "name": "stdout",
     "output_type": "stream",
     "text": [
      "삭제할 훈련 데이터의 개수 : 7\n",
      "삭제할 테스트 데이터의 개수 : 6\n",
      "훈련 데이터의 개수 : 6974\n",
      "훈련 레이블의 개수 : 6974\n",
      "테스트 데이터의 개수 : 1739\n",
      "테스트 레이블의 개수 : 1739\n"
     ]
    }
   ],
   "source": [
    "drop_train = [index for index, sentence in enumerate(decoder_input_train) if len(sentence) == 1]\n",
    "drop_test = [index for index, sentence in enumerate(decoder_input_test) if len(sentence) == 1]\n",
    "\n",
    "print('삭제할 훈련 데이터의 개수 :',len(drop_train))\n",
    "print('삭제할 테스트 데이터의 개수 :',len(drop_test))\n",
    "\n",
    "encoder_input_train = np.delete(encoder_input_train, drop_train, axis=0)\n",
    "decoder_input_train = np.delete(decoder_input_train, drop_train, axis=0)\n",
    "decoder_target_train = np.delete(decoder_target_train, drop_train, axis=0)\n",
    "\n",
    "encoder_input_test = np.delete(encoder_input_test, drop_test, axis=0)\n",
    "decoder_input_test = np.delete(decoder_input_test, drop_test, axis=0)\n",
    "decoder_target_test = np.delete(decoder_target_test, drop_test, axis=0)\n",
    "\n",
    "print('훈련 데이터의 개수 :', len(encoder_input_train))\n",
    "print('훈련 레이블의 개수 :',len(decoder_input_train))\n",
    "print('테스트 데이터의 개수 :',len(encoder_input_test))\n",
    "print('테스트 레이블의 개수 :',len(decoder_input_test))"
   ]
  },
  {
   "cell_type": "markdown",
   "id": "third-marble",
   "metadata": {},
   "source": [
    "#### 패딩하기"
   ]
  },
  {
   "cell_type": "code",
   "execution_count": 69,
   "id": "accurate-proposition",
   "metadata": {},
   "outputs": [],
   "source": [
    "from tensorflow.keras.preprocessing.sequence import pad_sequences\n",
    "\n",
    "encoder_input_train = pad_sequences(encoder_input_train, maxlen = text_max_len, padding='post')\n",
    "encoder_input_test = pad_sequences(encoder_input_test, maxlen = text_max_len, padding='post')\n",
    "decoder_input_train = pad_sequences(decoder_input_train, maxlen = headlines_max_len, padding='post')\n",
    "decoder_target_train = pad_sequences(decoder_target_train, maxlen = headlines_max_len, padding='post')\n",
    "decoder_input_test = pad_sequences(decoder_input_test, maxlen = headlines_max_len, padding='post')\n",
    "decoder_target_test = pad_sequences(decoder_target_test, maxlen = headlines_max_len, padding='post')"
   ]
  },
  {
   "cell_type": "markdown",
   "id": "covered-economics",
   "metadata": {},
   "source": [
    "## Step 3. 어텐션 메커니즘 사용하기 (추상적 요약)## Step 3. 어텐션 메커니즘 사용하기 (추상적 요약)"
   ]
  },
  {
   "cell_type": "code",
   "execution_count": 74,
   "id": "aggregate-accident",
   "metadata": {},
   "outputs": [
    {
     "name": "stdout",
     "output_type": "stream",
     "text": [
      "WARNING:tensorflow:Layer lstm will not use cuDNN kernel since it doesn't meet the cuDNN kernel criteria. It will use generic GPU kernel as fallback when running on GPU\n",
      "WARNING:tensorflow:Layer lstm_1 will not use cuDNN kernel since it doesn't meet the cuDNN kernel criteria. It will use generic GPU kernel as fallback when running on GPU\n",
      "WARNING:tensorflow:Layer lstm_2 will not use cuDNN kernel since it doesn't meet the cuDNN kernel criteria. It will use generic GPU kernel as fallback when running on GPU\n"
     ]
    }
   ],
   "source": [
    "from tensorflow.keras.layers import Input, LSTM, Embedding, Dense, Concatenate\n",
    "from tensorflow.keras.models import Model\n",
    "from tensorflow.keras.callbacks import EarlyStopping, ModelCheckpoint\n",
    "\n",
    "\n",
    "# 인코더 설계 시작\n",
    "embedding_dim = 128\n",
    "hidden_size = 256\n",
    "\n",
    "# 인코더\n",
    "encoder_inputs = Input(shape=(text_max_len,))\n",
    "\n",
    "# 인코더의 임베딩 층\n",
    "enc_emb = Embedding(src_vocab, embedding_dim)(encoder_inputs)\n",
    "\n",
    "# 인코더의 LSTM 1\n",
    "encoder_lstm1 = LSTM(hidden_size, return_sequences=True, return_state=True ,dropout = 0.4, recurrent_dropout = 0.4)\n",
    "encoder_output1, state_h1, state_c1 = encoder_lstm1(enc_emb)\n",
    "\n",
    "# 인코더의 LSTM 2\n",
    "encoder_lstm2 = LSTM(hidden_size, return_sequences=True, return_state=True, dropout=0.4, recurrent_dropout=0.4)\n",
    "encoder_output2, state_h2, state_c2 = encoder_lstm2(encoder_output1)\n",
    "\n",
    "# 인코더의 LSTM 3\n",
    "encoder_lstm3 = LSTM(hidden_size, return_state=True, return_sequences=True, dropout=0.4, recurrent_dropout=0.4)\n",
    "encoder_outputs, state_h, state_c= encoder_lstm3(encoder_output2)"
   ]
  },
  {
   "cell_type": "code",
   "execution_count": 75,
   "id": "genetic-spare",
   "metadata": {},
   "outputs": [
    {
     "name": "stdout",
     "output_type": "stream",
     "text": [
      "WARNING:tensorflow:Layer lstm_3 will not use cuDNN kernel since it doesn't meet the cuDNN kernel criteria. It will use generic GPU kernel as fallback when running on GPU\n"
     ]
    }
   ],
   "source": [
    "# 디코더 설계\n",
    "\n",
    "decoder_inputs = Input(shape=(None,))\n",
    "\n",
    "# 디코더의 임베딩 층\n",
    "dec_emb_layer = Embedding(tar_vocab, embedding_dim)\n",
    "dec_emb = dec_emb_layer(decoder_inputs)\n",
    "\n",
    "# 디코더의 LSTM\n",
    "decoder_lstm = LSTM(hidden_size, return_sequences = True, return_state = True, dropout = 0.4, recurrent_dropout=0.2)\n",
    "decoder_outputs, _, _ = decoder_lstm(dec_emb, initial_state = [state_h, state_c])"
   ]
  },
  {
   "cell_type": "code",
   "execution_count": 76,
   "id": "basic-reliance",
   "metadata": {},
   "outputs": [
    {
     "name": "stdout",
     "output_type": "stream",
     "text": [
      "Model: \"model\"\n",
      "__________________________________________________________________________________________________\n",
      "Layer (type)                    Output Shape         Param #     Connected to                     \n",
      "==================================================================================================\n",
      "input_1 (InputLayer)            [(None, 50)]         0                                            \n",
      "__________________________________________________________________________________________________\n",
      "embedding (Embedding)           (None, 50, 128)      1024000     input_1[0][0]                    \n",
      "__________________________________________________________________________________________________\n",
      "lstm (LSTM)                     [(None, 50, 256), (N 394240      embedding[0][0]                  \n",
      "__________________________________________________________________________________________________\n",
      "input_2 (InputLayer)            [(None, None)]       0                                            \n",
      "__________________________________________________________________________________________________\n",
      "lstm_1 (LSTM)                   [(None, 50, 256), (N 525312      lstm[0][0]                       \n",
      "__________________________________________________________________________________________________\n",
      "embedding_1 (Embedding)         (None, None, 128)    256000      input_2[0][0]                    \n",
      "__________________________________________________________________________________________________\n",
      "lstm_2 (LSTM)                   [(None, 50, 256), (N 525312      lstm_1[0][0]                     \n",
      "__________________________________________________________________________________________________\n",
      "lstm_3 (LSTM)                   [(None, None, 256),  394240      embedding_1[0][0]                \n",
      "                                                                 lstm_2[0][1]                     \n",
      "                                                                 lstm_2[0][2]                     \n",
      "__________________________________________________________________________________________________\n",
      "dense (Dense)                   (None, None, 2000)   514000      lstm_3[0][0]                     \n",
      "==================================================================================================\n",
      "Total params: 3,633,104\n",
      "Trainable params: 3,633,104\n",
      "Non-trainable params: 0\n",
      "__________________________________________________________________________________________________\n"
     ]
    }
   ],
   "source": [
    "# 디코더의 출력층\n",
    "decoder_softmax_layer = Dense(tar_vocab, activation = 'softmax')\n",
    "decoder_softmax_outputs = decoder_softmax_layer(decoder_outputs) \n",
    "\n",
    "# 모델 정의\n",
    "model = Model([encoder_inputs, decoder_inputs], decoder_softmax_outputs)\n",
    "model.summary()"
   ]
  },
  {
   "cell_type": "markdown",
   "id": "corporate-breath",
   "metadata": {},
   "source": [
    "### 어텐션 매커니즘"
   ]
  },
  {
   "cell_type": "code",
   "execution_count": 77,
   "id": "round-atlantic",
   "metadata": {},
   "outputs": [],
   "source": [
    "import urllib.request\n",
    "\n",
    "urllib.request.urlretrieve(\"https://raw.githubusercontent.com/thushv89/attention_keras/master/src/layers/attention.py\", filename=\"attention.py\")\n",
    "from attention import AttentionLayer"
   ]
  },
  {
   "cell_type": "code",
   "execution_count": 78,
   "id": "material-belly",
   "metadata": {},
   "outputs": [
    {
     "name": "stdout",
     "output_type": "stream",
     "text": [
      "Model: \"model_1\"\n",
      "__________________________________________________________________________________________________\n",
      "Layer (type)                    Output Shape         Param #     Connected to                     \n",
      "==================================================================================================\n",
      "input_1 (InputLayer)            [(None, 50)]         0                                            \n",
      "__________________________________________________________________________________________________\n",
      "embedding (Embedding)           (None, 50, 128)      1024000     input_1[0][0]                    \n",
      "__________________________________________________________________________________________________\n",
      "lstm (LSTM)                     [(None, 50, 256), (N 394240      embedding[0][0]                  \n",
      "__________________________________________________________________________________________________\n",
      "input_2 (InputLayer)            [(None, None)]       0                                            \n",
      "__________________________________________________________________________________________________\n",
      "lstm_1 (LSTM)                   [(None, 50, 256), (N 525312      lstm[0][0]                       \n",
      "__________________________________________________________________________________________________\n",
      "embedding_1 (Embedding)         (None, None, 128)    256000      input_2[0][0]                    \n",
      "__________________________________________________________________________________________________\n",
      "lstm_2 (LSTM)                   [(None, 50, 256), (N 525312      lstm_1[0][0]                     \n",
      "__________________________________________________________________________________________________\n",
      "lstm_3 (LSTM)                   [(None, None, 256),  394240      embedding_1[0][0]                \n",
      "                                                                 lstm_2[0][1]                     \n",
      "                                                                 lstm_2[0][2]                     \n",
      "__________________________________________________________________________________________________\n",
      "attention_layer (AttentionLayer ((None, None, 256),  131328      lstm_2[0][0]                     \n",
      "                                                                 lstm_3[0][0]                     \n",
      "__________________________________________________________________________________________________\n",
      "concat_layer (Concatenate)      (None, None, 512)    0           lstm_3[0][0]                     \n",
      "                                                                 attention_layer[0][0]            \n",
      "__________________________________________________________________________________________________\n",
      "dense_1 (Dense)                 (None, None, 2000)   1026000     concat_layer[0][0]               \n",
      "==================================================================================================\n",
      "Total params: 4,276,432\n",
      "Trainable params: 4,276,432\n",
      "Non-trainable params: 0\n",
      "__________________________________________________________________________________________________\n"
     ]
    }
   ],
   "source": [
    "# 어텐션 층(어텐션 함수)\n",
    "attn_layer = AttentionLayer(name='attention_layer')\n",
    "# 인코더와 디코더의 모든 time step의 hidden state를 어텐션 층에 전달하고 결과를 리턴\n",
    "attn_out, attn_states = attn_layer([encoder_outputs, decoder_outputs])\n",
    "\n",
    "# 어텐션의 결과와 디코더의 hidden state들을 연결\n",
    "decoder_concat_input = Concatenate(axis = -1, name='concat_layer')([decoder_outputs, attn_out])\n",
    "\n",
    "# 디코더의 출력층\n",
    "decoder_softmax_layer = Dense(tar_vocab, activation='softmax')\n",
    "decoder_softmax_outputs = decoder_softmax_layer(decoder_concat_input)\n",
    "\n",
    "# 모델 정의\n",
    "model = Model([encoder_inputs, decoder_inputs], decoder_softmax_outputs)\n",
    "model.summary()"
   ]
  },
  {
   "cell_type": "markdown",
   "id": "available-supervisor",
   "metadata": {},
   "source": [
    "### 모델 훈련하기"
   ]
  },
  {
   "cell_type": "code",
   "execution_count": 79,
   "id": "union-helicopter",
   "metadata": {},
   "outputs": [
    {
     "name": "stdout",
     "output_type": "stream",
     "text": [
      "Epoch 1/50\n",
      "28/28 [==============================] - 9s 334ms/step - loss: 4.5718 - val_loss: 3.8095\n",
      "Epoch 2/50\n",
      "28/28 [==============================] - 9s 304ms/step - loss: 3.9882 - val_loss: 3.6642\n",
      "Epoch 3/50\n",
      "28/28 [==============================] - 8s 293ms/step - loss: 3.8038 - val_loss: 3.5036\n",
      "Epoch 4/50\n",
      "28/28 [==============================] - 8s 300ms/step - loss: 3.7015 - val_loss: 3.4337\n",
      "Epoch 5/50\n",
      "28/28 [==============================] - 8s 292ms/step - loss: 3.6254 - val_loss: 3.4219\n",
      "Epoch 6/50\n",
      "28/28 [==============================] - 8s 293ms/step - loss: 3.5701 - val_loss: 3.3615\n",
      "Epoch 7/50\n",
      "28/28 [==============================] - 8s 292ms/step - loss: 3.5100 - val_loss: 3.3356\n",
      "Epoch 8/50\n",
      "28/28 [==============================] - 8s 292ms/step - loss: 3.4566 - val_loss: 3.3100\n",
      "Epoch 9/50\n",
      "28/28 [==============================] - 8s 291ms/step - loss: 3.4040 - val_loss: 3.2787\n",
      "Epoch 10/50\n",
      "28/28 [==============================] - 8s 291ms/step - loss: 3.3485 - val_loss: 3.2889\n",
      "Epoch 11/50\n",
      "28/28 [==============================] - 8s 293ms/step - loss: 3.2901 - val_loss: 3.2234\n",
      "Epoch 12/50\n",
      "28/28 [==============================] - 8s 297ms/step - loss: 3.2314 - val_loss: 3.2373\n",
      "Epoch 13/50\n",
      "28/28 [==============================] - 8s 293ms/step - loss: 3.1704 - val_loss: 3.1886\n",
      "Epoch 14/50\n",
      "28/28 [==============================] - 8s 292ms/step - loss: 3.1129 - val_loss: 3.1679\n",
      "Epoch 15/50\n",
      "28/28 [==============================] - 8s 294ms/step - loss: 3.0532 - val_loss: 3.1532\n",
      "Epoch 16/50\n",
      "28/28 [==============================] - 8s 294ms/step - loss: 2.9968 - val_loss: 3.1348\n",
      "Epoch 17/50\n",
      "28/28 [==============================] - 8s 294ms/step - loss: 2.9405 - val_loss: 3.1275\n",
      "Epoch 18/50\n",
      "28/28 [==============================] - 8s 292ms/step - loss: 2.8754 - val_loss: 3.0872\n",
      "Epoch 19/50\n",
      "28/28 [==============================] - 8s 292ms/step - loss: 2.8138 - val_loss: 3.0686\n",
      "Epoch 20/50\n",
      "28/28 [==============================] - 8s 292ms/step - loss: 2.7596 - val_loss: 3.0902\n",
      "Epoch 21/50\n",
      "28/28 [==============================] - 8s 292ms/step - loss: 2.7013 - val_loss: 3.0799\n",
      "Epoch 00021: early stopping\n"
     ]
    }
   ],
   "source": [
    "model.compile(optimizer='rmsprop', loss='sparse_categorical_crossentropy')\n",
    "es = EarlyStopping(monitor='val_loss', mode='min', verbose=1, patience = 2)\n",
    "history = model.fit(x = [encoder_input_train, decoder_input_train], y = decoder_target_train, \\\n",
    "          validation_data = ([encoder_input_test, decoder_input_test], decoder_target_test),\n",
    "          batch_size = 256, callbacks=[es], epochs = 50)"
   ]
  },
  {
   "cell_type": "code",
   "execution_count": 80,
   "id": "photographic-organ",
   "metadata": {},
   "outputs": [
    {
     "data": {
      "image/png": "[encoded data removed]",
      "text/plain": [
       "<Figure size 432x288 with 1 Axes>"
      ]
     },
     "metadata": {
      "needs_background": "light"
     },
     "output_type": "display_data"
    }
   ],
   "source": [
    "plt.plot(history.history['loss'], label='train')\n",
    "plt.plot(history.history['val_loss'], label='test')\n",
    "plt.legend()\n",
    "plt.show()"
   ]
  },
  {
   "cell_type": "markdown",
   "id": "synthetic-vintage",
   "metadata": {},
   "source": [
    "## Step 4. 실제 결과와 요약문 비교하기 (추상적 요약)"
   ]
  },
  {
   "cell_type": "markdown",
   "id": "continuous-maria",
   "metadata": {},
   "source": [
    "### 인퍼런스 모델 구현"
   ]
  },
  {
   "cell_type": "code",
   "execution_count": 81,
   "id": "organized-spare",
   "metadata": {},
   "outputs": [],
   "source": [
    "src_index_to_word = src_tokenizer.index_word # 원문 단어 집합에서 정수 -> 단어를 얻음\n",
    "tar_word_to_index = tar_tokenizer.word_index # 요약 단어 집합에서 단어 -> 정수를 얻음\n",
    "tar_index_to_word = tar_tokenizer.index_word # 요약 단어 집합에서 정수 -> 단어를 얻음"
   ]
  },
  {
   "cell_type": "code",
   "execution_count": 82,
   "id": "opening-receptor",
   "metadata": {},
   "outputs": [],
   "source": [
    "# 인코더 설계\n",
    "encoder_model = Model(inputs=encoder_inputs, outputs=[encoder_outputs, state_h, state_c])\n",
    "\n",
    "# 이전 시점의 상태들을 저장하는 텐서\n",
    "decoder_state_input_h = Input(shape=(hidden_size,))\n",
    "decoder_state_input_c = Input(shape=(hidden_size,))\n",
    "\n",
    "dec_emb2 = dec_emb_layer(decoder_inputs)\n",
    "# 문장의 다음 단어를 예측하기 위해서 초기 상태(initial_state)를 이전 시점의 상태로 사용. 이는 뒤의 함수 decode_sequence()에 구현\n",
    "# 훈련 과정에서와 달리 LSTM의 리턴하는 은닉 상태와 셀 상태인 state_h와 state_c를 버리지 않음.\n",
    "decoder_outputs2, state_h2, state_c2 = decoder_lstm(dec_emb2, initial_state=[decoder_state_input_h, decoder_state_input_c])"
   ]
  },
  {
   "cell_type": "code",
   "execution_count": 83,
   "id": "excessive-major",
   "metadata": {},
   "outputs": [],
   "source": [
    "# 어텐션 함수\n",
    "decoder_hidden_state_input = Input(shape=(text_max_len, hidden_size))\n",
    "attn_out_inf, attn_states_inf = attn_layer([decoder_hidden_state_input, decoder_outputs2])\n",
    "decoder_inf_concat = Concatenate(axis=-1, name='concat')([decoder_outputs2, attn_out_inf])\n",
    "\n",
    "# 디코더의 출력층\n",
    "decoder_outputs2 = decoder_softmax_layer(decoder_inf_concat) \n",
    "\n",
    "# 최종 디코더 모델\n",
    "decoder_model = Model(\n",
    "    [decoder_inputs] + [decoder_hidden_state_input,decoder_state_input_h, decoder_state_input_c],\n",
    "    [decoder_outputs2] + [state_h2, state_c2])"
   ]
  },
  {
   "cell_type": "code",
   "execution_count": 92,
   "id": "eleven-block",
   "metadata": {},
   "outputs": [],
   "source": [
    "def decode_sequence(input_seq):\n",
    "    # 입력으로부터 인코더의 상태를 얻음\n",
    "    e_out, e_h, e_c = encoder_model.predict(input_seq)\n",
    "\n",
    "     # <SOS>에 해당하는 토큰 생성\n",
    "    target_seq = np.zeros((1,1))\n",
    "    target_seq[0, 0] = tar_word_to_index['sostoken']\n",
    "\n",
    "    stop_condition = False\n",
    "    decoded_sentence = ''\n",
    "    while not stop_condition: # stop_condition이 True가 될 때까지 루프 반복\n",
    "\n",
    "        output_tokens, h, c = decoder_model.predict([target_seq] + [e_out, e_h, e_c])\n",
    "        sampled_token_index = np.argmax(output_tokens[0, -1, :])\n",
    "        sampled_token = tar_index_to_word[sampled_token_index]\n",
    "\n",
    "        if(sampled_token!='eostoken'):\n",
    "            decoded_sentence += ' '+sampled_token\n",
    "\n",
    "        #  <eos>에 도달하거나 최대 길이를 넘으면 중단.\n",
    "        if (sampled_token == 'eostoken'  or len(decoded_sentence.split()) >= (headlines_max_len-1)):\n",
    "            stop_condition = True\n",
    "\n",
    "        # 길이가 1인 타겟 시퀀스를 업데이트\n",
    "        target_seq = np.zeros((1,1))\n",
    "        target_seq[0, 0] = sampled_token_index\n",
    "\n",
    "        # 상태를 업데이트 합니다.\n",
    "        e_h, e_c = h, c\n",
    "\n",
    "    return decoded_sentence"
   ]
  },
  {
   "cell_type": "markdown",
   "id": "contained-employment",
   "metadata": {},
   "source": [
    "## Step 4. 실제 결과와 요약문 비교하기 (추상적 요약)"
   ]
  },
  {
   "cell_type": "markdown",
   "id": "proud-innocent",
   "metadata": {},
   "source": [
    "### 모델 테스트"
   ]
  },
  {
   "cell_type": "code",
   "execution_count": 93,
   "id": "exciting-quilt",
   "metadata": {},
   "outputs": [],
   "source": [
    "def seq2text(input_seq):\n",
    "    temp=''\n",
    "    for i in input_seq:\n",
    "        if(i!=0):\n",
    "            temp = temp + src_index_to_word[i]+' '\n",
    "    return temp\n",
    "\n",
    "# 요약문의 정수 시퀀스를 텍스트 시퀀스로 변환\n",
    "def seq2headlines(input_seq):\n",
    "    temp=''\n",
    "    for i in input_seq:\n",
    "        if((i!=0 and i!=tar_word_to_index['sostoken']) and i!=tar_word_to_index['eostoken']):\n",
    "            temp = temp + tar_index_to_word[i] + ' '\n",
    "    return temp"
   ]
  },
  {
   "cell_type": "code",
   "execution_count": 94,
   "id": "consistent-material",
   "metadata": {},
   "outputs": [
    {
     "name": "stdout",
     "output_type": "stream",
     "text": [
      "원문 : site new delhi caught fire early hours saturday morning catering nearly half population delhi acre wide reportedly tonnes garbage per day shelf life largest national capital \n",
      "실제 요약 : delhi catches fire \n",
      "예측 요약 :  in pictures in\n",
      "\n",
      "\n",
      "원문 : taiwan based brand released collection sheet resemble different emojis focus instance covered meanwhile printed \n",
      "실제 요약 : based brand makes \n",
      "예측 요약 :  bengaluru startup raises million\n",
      "\n",
      "\n",
      "원문 : visit myanmar philippines president rodrigo duterte called former us president barack obama approach negotiations country said go eat assistance duterte also acted mock phone call president donald trump supporting war drugs philippines \n",
      "실제 요약 : philippines prez calls obama trump \n",
      "예측 요약 :  twitter is us\n",
      "\n",
      "\n",
      "원문 : malaysia ministry finance wednesday said goods services tax reduced effective june new prime minister promised abolish electoral victory gst introduced april ousted leader razak fall oil revenue \n",
      "실제 요약 : malaysia to stop gst from june \n",
      "예측 요약 :  for\n",
      "\n",
      "\n",
      "원문 : online fashion retailer myntra wednesday acquired bengaluru based logistics startup undisclosed amount part acquisition team joined myntra founded offers technology platform provides end end logistics solutions commerce sector fourth technology led acquisition myntra \n",
      "실제 요약 : acquires bengaluru based logistics startup \n",
      "예측 요약 :  startup raises million\n",
      "\n",
      "\n",
      "원문 : police officer lucknow mishra suspended duty made everyone cleanliness consuming tobacco notably uttar pradesh cm yogi adityanath directed officials consuming pan masala office premises uttar pradesh cops suspended related issues ever since adityanath assumed office \n",
      "실제 요약 : up suspended for \n",
      "예측 요약 :  iit cm arrested in\n",
      "\n",
      "\n",
      "원문 : austria based researchers developed brain computer interface allows music composed power thought employs special cap tracks brain waves subject reading musical notes converted software music study involved participants asked think onto musical score \n",
      "실제 요약 : researchers music using brain \n",
      "예측 요약 :  world largest expensive expensive\n",
      "\n",
      "\n",
      "원문 : delhi recorded lowest temperature season degrees saturday morning meteorological department official said official said temperature four season average adding maximum temperature expected around degrees visibility morning metres parts city \n",
      "실제 요약 : delhi records temperature at \n",
      "예측 요약 :  delhi university to\n",
      "\n",
      "\n",
      "원문 : american bank wells accidentally leaked thousands sensitive documents belonged clients bank accidentally sent files including customers details former financial adviser summoned company part lawsuit one current employees affected clients bank wealthiest customers \n",
      "실제 요약 : bank accidentally records \n",
      "예측 요약 :  apple to launch\n",
      "\n",
      "\n",
      "원문 : dera sacha sauda thursday claimed human buried inside headquarters added chief gurmeet ram rahim encouraged followers remains prevent rivers causes pollution stated trees planted buried remains \n",
      "실제 요약 : found are dera \n",
      "예측 요약 :  in pictures in\n",
      "\n",
      "\n",
      "원문 : mumbai get floating restaurants restaurants located multiple ship india project delhi based said restaurants run world renowned far world \n",
      "실제 요약 : mumbai to get floating \n",
      "예측 요약 :  bengaluru to get\n",
      "\n",
      "\n",
      "원문 : sbi friday base rate home loan bank andhra bank bank commerce also reduced base rate home loans respectively reduction new base rates stand sbi bob andhra bank \n",
      "실제 요약 : sbi home loan rates by \n",
      "예측 요약 :  rbi to crore\n",
      "\n",
      "\n",
      "원문 : sweden made series films sex education primarily female migrants stating female migrants come different norms rules government said films aimed make aware sexual rights country swedish government allocated crore sex education programme \n",
      "실제 요약 : sweden makes sex education for migrants \n",
      "예측 요약 :  tesla to\n",
      "\n",
      "\n",
      "원문 : pm narendra modi visit indonesia singapore may june hold bilateral talks leaders nations centre announced pm deliver address singapore first instance indian pm invited also likely sign key agreements nations nn \n",
      "실제 요약 : pm modi to visit indonesia singapore \n",
      "예측 요약 :  india to\n",
      "\n",
      "\n",
      "원문 : bjp corporator kalyan municipal corporation booked allegedly year old woman woman filed complaint corporator already married repeatedly raped june august promise marriage police also booked another couple helping corporator crime recording act \n",
      "실제 요약 : maharashtra bjp booked for woman \n",
      "예측 요약 :  iit musk to\n",
      "\n",
      "\n",
      "원문 : pilot flight attendant delayed delta connection flight hours monday pilot reportedly called flight attendant name began arguing delta apologised replaced pilot flight attendant flight departed new york airport following delay two hours \n",
      "실제 요약 : between pilot flight delays flight \n",
      "예측 요약 :  uk to\n",
      "\n",
      "\n",
      "원문 : dutch researcher proposed making three planes take land simultaneously planes could take custom locations circle avoid destination circular runway would make airports smaller banking runway would ensure less fuel usage wear \n",
      "실제 요약 : proposes for \n",
      "예측 요약 :  china to\n",
      "\n",
      "\n",
      "원문 : mexican politician trolled campaign hashtag namely team result mistake said ordinary people experience creating political campaign parties earlier slogan meaning moustache \n",
      "실제 요약 : politician trolled for campaign \n",
      "예측 요약 :  rbi to crore\n",
      "\n",
      "\n",
      "원문 : astronauts aboard international space station photographed california wildfires km earth surface complex fire consisting two wildfires declared largest us state history blaze spread rapidly last week burn acres land area almost size los angeles \n",
      "실제 요약 : astronauts us from space \n",
      "예측 요약 :  india to launch\n",
      "\n",
      "\n",
      "원문 : indian budget less transparent bangladesh budget provides limited information public domain anti corruption watchdog transparency international india said calling indian budget one documents ordinary citizens added knowledge budget limited experts \n",
      "실제 요약 : india budget less transparent than bangladesh report \n",
      "예측 요약 :  apple to launch\n",
      "\n",
      "\n",
      "원문 : around refugees myanmar entered mizoram state home minister said wednesday added refugees fled armed conflict militant group army myanmar army three army militants treated hospitals injuries sustained conflict \n",
      "실제 요약 : refugees state home minister \n",
      "예측 요약 :  pakistan in afghanistan in\n",
      "\n",
      "\n",
      "원문 : suspected chinese helicopter violated indian flying uttarakhand district four minutes close india border saturday police said entered indian tibetan side flying back police added could confirm whether act \n",
      "실제 요약 : suspected chinese violates indian \n",
      "예측 요약 :  in pictures in\n",
      "\n",
      "\n",
      "원문 : documentary called period end sentence based women india fighting oscars documentary short subject category film also revolves around easy operate machine makes low cost sanitary napkins inspired bollywood film padman \n",
      "실제 요약 : indian on for oscars \n",
      "예측 요약 :  to\n",
      "\n",
      "\n",
      "원문 : spain held first national championship shopping mall madrid contest held national association friends aimed power tradition participants sleep minutes monitored points awarded quickly participants fell original sleeping position \n",
      "실제 요약 : spain once held national competition \n",
      "예측 요약 :  uk bans\n",
      "\n",
      "\n",
      "원문 : kerala finance minister thomas isaac claimed lakh state day ayurvedic treatment private clinic rti reply revealed also sought amount spent rti added comes isaac warned state facing financial crisis \n",
      "실제 요약 : kerala minister for treatment rti \n",
      "예측 요약 :  karnataka to get\n",
      "\n",
      "\n",
      "원문 : board reserve bank india cleared proposal introduce banknotes denomination according multiple reports decision reportedly taken rbi board meeting held march process printing new notes likely begin june government officially new denomination reports added \n",
      "실제 요약 : rbi to introduce notes reports \n",
      "예측 요약 :  tesla launches tesla for\n",
      "\n",
      "\n",
      "원문 : tea seller pune earns much lakh monthly tea house become famous city tea house got three stalls city owner wishes make international brand tea selling business creating employment indians business growing fast happy said \n",
      "실제 요약 : tea in pune makes lakh month \n",
      "예측 요약 :  in pictures\n",
      "\n",
      "\n",
      "원문 : pakistani lashkar taiba terrorist escaped police custody tuesday reportedly gunmen started firing outside srinagar hospital taken medical check policeman martyred another injured firing srinagar deputy inspector general ghulam claimed planned militant attack \n",
      "실제 요약 : pakistani during srinagar hospital \n",
      "예측 요약 :  killed in shooting in\n",
      "\n",
      "\n",
      "원문 : confirming death leader us air strike pakistani taliban named mufti new chief saturday appointed deputy leader february year pakistani taliban spokesman said matter pride previous leaders martyred \n",
      "실제 요약 : pakistani taliban confirms chief death appoints \n",
      "예측 요약 :  pakistan to be\n",
      "\n",
      "\n",
      "원문 : chinese electronics company xiaomi thursday confirmed soon new sub brand called xiaomi india lead product manager jai tweet expressed working new project indian global twitter handles new sub brand also went live confirming indian global presence \n",
      "실제 요약 : confirms new brand \n"
     ]
    },
    {
     "name": "stdout",
     "output_type": "stream",
     "text": [
      "예측 요약 :  china to study\n",
      "\n",
      "\n",
      "원문 : amid heavy rainfall bengaluru foam started lake near main road strong winds made chemical reach nearby mall hospital foam harmful chemicals like reportedly creates problems two causes comes contact skin \n",
      "실제 요약 : from bengaluru \n",
      "예측 요약 :  killed in\n",
      "\n",
      "\n",
      "원문 : congress president rahul gandhi thursday apparent reference bjp union minister hegde change constitution remark said indian constitution attack congress duty defend constitution right every citizen every single person added leader addressing event congress rd foundation day \n",
      "실제 요약 : constitution under attack by bjp rahul gandhi \n",
      "예측 요약 :  congress is independence\n",
      "\n",
      "\n",
      "원문 : speaking india today east abhishek bachchan revealed proposed aishwarya rai film together first worked together initial films always close time something added abhishek said things took serious turn \n",
      "실제 요약 : proposed to after abhishek \n",
      "예측 요약 :  salman to\n",
      "\n",
      "\n",
      "원문 : mumbai largest municipal medical facility king edward memorial hospital forced move patients higher heavy rains flooded lower level sections ward deep water according reports doctors hospital advised people come hospital \n",
      "실제 요약 : mumbai rains city largest hospital \n",
      "예측 요약 :  mumbai metro to get\n",
      "\n",
      "\n",
      "원문 : apple planning release iphones according report company planning use intel chip iphones report said report added apple also held talks another chip maker potentially chips \n",
      "실제 요약 : apple could release iphones in report \n",
      "예측 요약 :  google launches\n",
      "\n",
      "\n",
      "원문 : president al assad claimed alleged chemical attack province last week blamed government according reports adding syrian government gave chemical weapon stocks part deal assad said government would never use \n",
      "실제 요약 : chemical attack syria prez \n",
      "예측 요약 :  pakistan to launch in\n",
      "\n",
      "\n",
      "원문 : french nuclear physicists say found particles disaster took place wine california us experts said cloud disaster floated pacific ocean california however said wine seen health \n",
      "실제 요약 : nuclear found in california \n",
      "예측 요약 :  us to\n",
      "\n",
      "\n",
      "원문 : us president donald trump thursday signed six month waiver keep us embassy israel instead jerusalem despite campaign notably every us president signed waiver twice year law passed embassy jerusalem \n",
      "실제 요약 : trump delays us to \n",
      "예측 요약 :  trump on trump\n",
      "\n",
      "\n",
      "원문 : believed chased lions river river along border local lodge owner said got stuck bank side river high following \n",
      "실제 요약 : in \n",
      "예측 요약 :  bengaluru to crore\n",
      "\n",
      "\n",
      "원문 : th birthday monday madhya pradesh cm singh announced state government give birth child poor family adding government wants poor live comfortable life birth till death said also provided last poor person \n",
      "실제 요약 : pradesh announces on for \n",
      "예측 요약 :  rbi to get\n",
      "\n",
      "\n",
      "원문 : sex recognised mental health disorder world health organisation international diseases list person pattern failure control intense sexual urges resulting sexual behaviour stated earlier declared gaming mental health disorder \n",
      "실제 요약 : who sex as \n",
      "예측 요약 :  to\n",
      "\n",
      "\n",
      "원문 : academy motion picture arts sciences stated actress priyanka chopra help announce oscar nominations year hollywood celebrities michelle rebel also part announcement nominations priyanka presented award best film editing oscars \n",
      "실제 요약 : priyanka chopra to nominations for oscars \n",
      "예측 요약 :  trailer of released\n",
      "\n",
      "\n",
      "원문 : mumbai based beauty startup raised nearly crore india fund affiliate advisors via secondary share sales following deal existing investor growth fund startup founded startup last raised crore may series round funding \n",
      "실제 요약 : beauty startup raises crore from \n",
      "예측 요약 :  startup raises million\n",
      "\n",
      "\n",
      "원문 : donald trump efforts end standoff north korea nuclear weapons programme south korean president moon jae said us president deserves nobel peace prize comes north south korea pledged end two countries work towards complete denuclearisation korean peninsula \n",
      "실제 요약 : trump nobel prize korea president \n",
      "예측 요약 :  trump to launch trump\n",
      "\n",
      "\n",
      "원문 : amazon shut online product discovery platform launched india integrated local finds platform customers find sell used new goods amazon india founded anand rakesh ashish gupta sold amazon \n",
      "실제 요약 : amazon shuts down discovery platform \n",
      "예측 요약 :  china to\n",
      "\n",
      "\n",
      "원문 : journalist shot dead mexico tuesday marking fourth murder media person country far year juan killed first anniversary murder mexican journalist mexico witnessing increasing rates listed among countries poor press freedom \n",
      "실제 요약 : fourth journalist murdered in mexico this year \n",
      "예측 요약 :  andhra pradesh in kerala\n",
      "\n",
      "\n",
      "원문 : international anti money laundering monitoring group financial action task force decided place pakistan global terrorist financing according reports motion listing put forward us pakistan alleged support inaction terrorism pakistan expected placed grey list june year \n",
      "실제 요약 : pakistan on global terror \n",
      "예측 요약 :  china in\n",
      "\n",
      "\n",
      "원문 : afghanistan national sport traditional pulling sport game involves riders horses half played centuries across central asia matches may teams owned sponsored powerful sometimes attract thousands \n",
      "실제 요약 : there is in afghanistan \n",
      "예측 요약 :  video\n",
      "\n",
      "\n",
      "원문 : non bailable warrant issued eight tamil actors including baahubali appearing court defamation case filed journalist tamil daily carried report wherein actress accused certain actors actresses involved racket following actors reportedly journalists \n",
      "실제 요약 : arrest against baahubali \n",
      "예측 요약 :  new to\n",
      "\n",
      "\n",
      "원문 : border security force sunday recovered kg heroin two arms three live rounds ammunition punjab sector special search operation launched bsf troops observed suspicious movement near border security bsf seized kg heroin punjab border far year \n",
      "실제 요약 : kg in punjab \n",
      "예측 요약 :  militants in kashmir\n",
      "\n",
      "\n"
     ]
    }
   ],
   "source": [
    "for i in range(50, 100):\n",
    "    print(\"원문 :\", seq2text(encoder_input_test[i]))\n",
    "    print(\"실제 요약 :\", seq2headlines(decoder_input_test[i]))\n",
    "    print(\"예측 요약 :\", decode_sequence(encoder_input_test[i].reshape(1, text_max_len)))\n",
    "    print(\"\\n\")"
   ]
  },
  {
   "cell_type": "markdown",
   "id": "behavioral-paragraph",
   "metadata": {},
   "source": [
    "## Step 5. Summa을 이용해서 추출적 요약해보기"
   ]
  },
  {
   "cell_type": "code",
   "execution_count": 96,
   "id": "practical-metadata",
   "metadata": {},
   "outputs": [
    {
     "name": "stdout",
     "output_type": "stream",
     "text": [
      "Requirement already satisfied: summa in /home/aiffel-dj43/anaconda3/envs/aiffel/lib/python3.7/site-packages (1.2.0)\r\n",
      "Requirement already satisfied: scipy>=0.19 in /home/aiffel-dj43/anaconda3/envs/aiffel/lib/python3.7/site-packages (from summa) (1.5.3)\r\n",
      "Requirement already satisfied: numpy>=1.14.5 in /home/aiffel-dj43/anaconda3/envs/aiffel/lib/python3.7/site-packages (from scipy>=0.19->summa) (1.18.5)\r\n"
     ]
    }
   ],
   "source": [
    "! pip install summa"
   ]
  },
  {
   "cell_type": "code",
   "execution_count": 4,
   "id": "ranking-transformation",
   "metadata": {},
   "outputs": [],
   "source": [
    "import requests\n",
    "from summa.summarizer import summarize"
   ]
  },
  {
   "cell_type": "code",
   "execution_count": 5,
   "id": "insured-happening",
   "metadata": {},
   "outputs": [],
   "source": [
    "text = requests.get('https://raw.githubusercontent.com/sunnysai12345/News_Summary/master/news_summary_more.csv').text"
   ]
  },
  {
   "cell_type": "code",
   "execution_count": 6,
   "id": "spare-belfast",
   "metadata": {},
   "outputs": [
    {
     "name": "stdout",
     "output_type": "stream",
     "text": [
      "headlines,text\n",
      "upGrad learner switches to career in ML & Al with 90% salary hike,\"Saurav Kant, an alumnus of upGrad and IIIT-B's PG Program in Machine learning and Artificial Intelligence, was a Sr Systems Engineer at Infosys with almost 5 years of work experience. The program and upGrad's 360-degree career support helped him transition to a Data Scientist at Tech Mahindra with 90% salary hike. upGrad's Online Power Learning has powered 3 lakh+ careers.\"\n",
      "Delhi techie wins free food from Swiggy for one year on CRED,\"Kunal Shah's credit card bill payment platform, CRED, gave users a chance to win free food from Swiggy for one year. Pranav Kaushik, a Delhi techie, bagged this reward after spending 2000 CRED coins. Users get one CRED coin per rupee of bill paid, which can be used to avail rewards from brands like Ixigo, BookMyShow, UberEats, Cult.Fit and more.\"\n",
      "New Zealand end Rohit Sharma-led India's 12-match winning streak,\"New Zealand defeated India by 8 wickets in the fourth ODI at Hamilton on Thursday to win their first match of the five-match ODI series. India lost an international match under Rohit Sharma's captaincy after 12 consecutive victories dating back to March 2018. The match witnessed India getting all out for 92, their seventh lowest total in ODI cricket history.\"\n",
      "Aegon life iTerm insurance plan helps customers save tax,\"With Aegon Life iTerm Insurance plan, customers can enjoy tax benefits on your premiums paid and save up to â¹46,800^ on taxes. The plan provid\n"
     ]
    }
   ],
   "source": [
    "print(text[:1500])"
   ]
  },
  {
   "cell_type": "markdown",
   "id": "second-douglas",
   "metadata": {},
   "source": [
    "### summarize 사용하기"
   ]
  },
  {
   "cell_type": "code",
   "execution_count": 8,
   "id": "charged-charge",
   "metadata": {},
   "outputs": [
    {
     "name": "stdout",
     "output_type": "stream",
     "text": [
      "Summary:\n"
     ]
    },
    {
     "ename": "KeyboardInterrupt",
     "evalue": "",
     "output_type": "error",
     "traceback": [
      "\u001b[0;31m---------------------------------------------------------------------------\u001b[0m",
      "\u001b[0;31mKeyboardInterrupt\u001b[0m                         Traceback (most recent call last)",
      "\u001b[0;32m<ipython-input-8-e6dfcf09f346>\u001b[0m in \u001b[0;36m<module>\u001b[0;34m\u001b[0m\n\u001b[1;32m      1\u001b[0m \u001b[0mprint\u001b[0m\u001b[0;34m(\u001b[0m\u001b[0;34m'Summary:'\u001b[0m\u001b[0;34m)\u001b[0m\u001b[0;34m\u001b[0m\u001b[0;34m\u001b[0m\u001b[0m\n\u001b[0;32m----> 2\u001b[0;31m \u001b[0mprint\u001b[0m\u001b[0;34m(\u001b[0m\u001b[0msummarize\u001b[0m\u001b[0;34m(\u001b[0m\u001b[0mtext\u001b[0m\u001b[0;34m,\u001b[0m \u001b[0mwords\u001b[0m \u001b[0;34m=\u001b[0m \u001b[0;36m50\u001b[0m\u001b[0;34m)\u001b[0m\u001b[0;34m)\u001b[0m\u001b[0;34m\u001b[0m\u001b[0;34m\u001b[0m\u001b[0m\n\u001b[0m",
      "\u001b[0;32m~/anaconda3/envs/aiffel/lib/python3.7/site-packages/summa/summarizer.py\u001b[0m in \u001b[0;36msummarize\u001b[0;34m(text, ratio, words, language, split, scores, additional_stopwords)\u001b[0m\n\u001b[1;32m    115\u001b[0m \u001b[0;34m\u001b[0m\u001b[0m\n\u001b[1;32m    116\u001b[0m     \u001b[0;31m# Gets a list of processed sentences.\u001b[0m\u001b[0;34m\u001b[0m\u001b[0;34m\u001b[0m\u001b[0;34m\u001b[0m\u001b[0m\n\u001b[0;32m--> 117\u001b[0;31m     \u001b[0msentences\u001b[0m \u001b[0;34m=\u001b[0m \u001b[0m_clean_text_by_sentences\u001b[0m\u001b[0;34m(\u001b[0m\u001b[0mtext\u001b[0m\u001b[0;34m,\u001b[0m \u001b[0mlanguage\u001b[0m\u001b[0;34m,\u001b[0m \u001b[0madditional_stopwords\u001b[0m\u001b[0;34m)\u001b[0m\u001b[0;34m\u001b[0m\u001b[0;34m\u001b[0m\u001b[0m\n\u001b[0m\u001b[1;32m    118\u001b[0m \u001b[0;34m\u001b[0m\u001b[0m\n\u001b[1;32m    119\u001b[0m     \u001b[0;31m# Creates the graph and calculates the similarity coefficient for every pair of nodes.\u001b[0m\u001b[0;34m\u001b[0m\u001b[0;34m\u001b[0m\u001b[0;34m\u001b[0m\u001b[0m\n",
      "\u001b[0;32m~/anaconda3/envs/aiffel/lib/python3.7/site-packages/summa/preprocessing/textcleaner.py\u001b[0m in \u001b[0;36mclean_text_by_sentences\u001b[0;34m(text, language, additional_stopwords)\u001b[0m\n\u001b[1;32m    164\u001b[0m     \u001b[0minit_textcleanner\u001b[0m\u001b[0;34m(\u001b[0m\u001b[0mlanguage\u001b[0m\u001b[0;34m,\u001b[0m \u001b[0madditional_stopwords\u001b[0m\u001b[0;34m)\u001b[0m\u001b[0;34m\u001b[0m\u001b[0;34m\u001b[0m\u001b[0m\n\u001b[1;32m    165\u001b[0m     \u001b[0moriginal_sentences\u001b[0m \u001b[0;34m=\u001b[0m \u001b[0msplit_sentences\u001b[0m\u001b[0;34m(\u001b[0m\u001b[0mtext\u001b[0m\u001b[0;34m)\u001b[0m\u001b[0;34m\u001b[0m\u001b[0;34m\u001b[0m\u001b[0m\n\u001b[0;32m--> 166\u001b[0;31m     \u001b[0mfiltered_sentences\u001b[0m \u001b[0;34m=\u001b[0m \u001b[0mfilter_words\u001b[0m\u001b[0;34m(\u001b[0m\u001b[0moriginal_sentences\u001b[0m\u001b[0;34m)\u001b[0m\u001b[0;34m\u001b[0m\u001b[0;34m\u001b[0m\u001b[0m\n\u001b[0m\u001b[1;32m    167\u001b[0m \u001b[0;34m\u001b[0m\u001b[0m\n\u001b[1;32m    168\u001b[0m     \u001b[0;32mreturn\u001b[0m \u001b[0mmerge_syntactic_units\u001b[0m\u001b[0;34m(\u001b[0m\u001b[0moriginal_sentences\u001b[0m\u001b[0;34m,\u001b[0m \u001b[0mfiltered_sentences\u001b[0m\u001b[0;34m)\u001b[0m\u001b[0;34m\u001b[0m\u001b[0;34m\u001b[0m\u001b[0m\n",
      "\u001b[0;32m~/anaconda3/envs/aiffel/lib/python3.7/site-packages/summa/preprocessing/textcleaner.py\u001b[0m in \u001b[0;36mfilter_words\u001b[0;34m(sentences)\u001b[0m\n\u001b[1;32m    114\u001b[0m                stem_sentence]\n\u001b[1;32m    115\u001b[0m     \u001b[0mapply_filters_to_token\u001b[0m \u001b[0;34m=\u001b[0m \u001b[0;32mlambda\u001b[0m \u001b[0mtoken\u001b[0m\u001b[0;34m:\u001b[0m \u001b[0mapply_filters\u001b[0m\u001b[0;34m(\u001b[0m\u001b[0mtoken\u001b[0m\u001b[0;34m,\u001b[0m \u001b[0mfilters\u001b[0m\u001b[0;34m)\u001b[0m\u001b[0;34m\u001b[0m\u001b[0;34m\u001b[0m\u001b[0m\n\u001b[0;32m--> 116\u001b[0;31m     \u001b[0;32mreturn\u001b[0m \u001b[0mlist\u001b[0m\u001b[0;34m(\u001b[0m\u001b[0mmap\u001b[0m\u001b[0;34m(\u001b[0m\u001b[0mapply_filters_to_token\u001b[0m\u001b[0;34m,\u001b[0m \u001b[0msentences\u001b[0m\u001b[0;34m)\u001b[0m\u001b[0;34m)\u001b[0m\u001b[0;34m\u001b[0m\u001b[0;34m\u001b[0m\u001b[0m\n\u001b[0m\u001b[1;32m    117\u001b[0m \u001b[0;34m\u001b[0m\u001b[0m\n\u001b[1;32m    118\u001b[0m \u001b[0;34m\u001b[0m\u001b[0m\n",
      "\u001b[0;32m~/anaconda3/envs/aiffel/lib/python3.7/site-packages/summa/preprocessing/textcleaner.py\u001b[0m in \u001b[0;36m<lambda>\u001b[0;34m(token)\u001b[0m\n\u001b[1;32m    113\u001b[0m     filters = [lambda x: x.lower(), strip_numeric, strip_punctuation, remove_stopwords,\n\u001b[1;32m    114\u001b[0m                stem_sentence]\n\u001b[0;32m--> 115\u001b[0;31m     \u001b[0mapply_filters_to_token\u001b[0m \u001b[0;34m=\u001b[0m \u001b[0;32mlambda\u001b[0m \u001b[0mtoken\u001b[0m\u001b[0;34m:\u001b[0m \u001b[0mapply_filters\u001b[0m\u001b[0;34m(\u001b[0m\u001b[0mtoken\u001b[0m\u001b[0;34m,\u001b[0m \u001b[0mfilters\u001b[0m\u001b[0;34m)\u001b[0m\u001b[0;34m\u001b[0m\u001b[0;34m\u001b[0m\u001b[0m\n\u001b[0m\u001b[1;32m    116\u001b[0m     \u001b[0;32mreturn\u001b[0m \u001b[0mlist\u001b[0m\u001b[0;34m(\u001b[0m\u001b[0mmap\u001b[0m\u001b[0;34m(\u001b[0m\u001b[0mapply_filters_to_token\u001b[0m\u001b[0;34m,\u001b[0m \u001b[0msentences\u001b[0m\u001b[0;34m)\u001b[0m\u001b[0;34m)\u001b[0m\u001b[0;34m\u001b[0m\u001b[0;34m\u001b[0m\u001b[0m\n\u001b[1;32m    117\u001b[0m \u001b[0;34m\u001b[0m\u001b[0m\n",
      "\u001b[0;32m~/anaconda3/envs/aiffel/lib/python3.7/site-packages/summa/preprocessing/textcleaner.py\u001b[0m in \u001b[0;36mapply_filters\u001b[0;34m(sentence, filters)\u001b[0m\n\u001b[1;32m    106\u001b[0m \u001b[0;32mdef\u001b[0m \u001b[0mapply_filters\u001b[0m\u001b[0;34m(\u001b[0m\u001b[0msentence\u001b[0m\u001b[0;34m,\u001b[0m \u001b[0mfilters\u001b[0m\u001b[0;34m)\u001b[0m\u001b[0;34m:\u001b[0m\u001b[0;34m\u001b[0m\u001b[0;34m\u001b[0m\u001b[0m\n\u001b[1;32m    107\u001b[0m     \u001b[0;32mfor\u001b[0m \u001b[0mf\u001b[0m \u001b[0;32min\u001b[0m \u001b[0mfilters\u001b[0m\u001b[0;34m:\u001b[0m\u001b[0;34m\u001b[0m\u001b[0;34m\u001b[0m\u001b[0m\n\u001b[0;32m--> 108\u001b[0;31m         \u001b[0msentence\u001b[0m \u001b[0;34m=\u001b[0m \u001b[0mf\u001b[0m\u001b[0;34m(\u001b[0m\u001b[0msentence\u001b[0m\u001b[0;34m)\u001b[0m\u001b[0;34m\u001b[0m\u001b[0;34m\u001b[0m\u001b[0m\n\u001b[0m\u001b[1;32m    109\u001b[0m     \u001b[0;32mreturn\u001b[0m \u001b[0msentence\u001b[0m\u001b[0;34m\u001b[0m\u001b[0;34m\u001b[0m\u001b[0m\n\u001b[1;32m    110\u001b[0m \u001b[0;34m\u001b[0m\u001b[0m\n",
      "\u001b[0;32m~/anaconda3/envs/aiffel/lib/python3.7/site-packages/summa/preprocessing/textcleaner.py\u001b[0m in \u001b[0;36mstem_sentence\u001b[0;34m(sentence)\u001b[0m\n\u001b[1;32m    100\u001b[0m \u001b[0;34m\u001b[0m\u001b[0m\n\u001b[1;32m    101\u001b[0m \u001b[0;32mdef\u001b[0m \u001b[0mstem_sentence\u001b[0m\u001b[0;34m(\u001b[0m\u001b[0msentence\u001b[0m\u001b[0;34m)\u001b[0m\u001b[0;34m:\u001b[0m\u001b[0;34m\u001b[0m\u001b[0;34m\u001b[0m\u001b[0m\n\u001b[0;32m--> 102\u001b[0;31m     \u001b[0mword_stems\u001b[0m \u001b[0;34m=\u001b[0m \u001b[0;34m[\u001b[0m\u001b[0mSTEMMER\u001b[0m\u001b[0;34m.\u001b[0m\u001b[0mstem\u001b[0m\u001b[0;34m(\u001b[0m\u001b[0mword\u001b[0m\u001b[0;34m)\u001b[0m \u001b[0;32mfor\u001b[0m \u001b[0mword\u001b[0m \u001b[0;32min\u001b[0m \u001b[0msentence\u001b[0m\u001b[0;34m.\u001b[0m\u001b[0msplit\u001b[0m\u001b[0;34m(\u001b[0m\u001b[0;34m)\u001b[0m\u001b[0;34m]\u001b[0m\u001b[0;34m\u001b[0m\u001b[0;34m\u001b[0m\u001b[0m\n\u001b[0m\u001b[1;32m    103\u001b[0m     \u001b[0;32mreturn\u001b[0m \u001b[0;34m\" \"\u001b[0m\u001b[0;34m.\u001b[0m\u001b[0mjoin\u001b[0m\u001b[0;34m(\u001b[0m\u001b[0mword_stems\u001b[0m\u001b[0;34m)\u001b[0m\u001b[0;34m\u001b[0m\u001b[0;34m\u001b[0m\u001b[0m\n\u001b[1;32m    104\u001b[0m \u001b[0;34m\u001b[0m\u001b[0m\n",
      "\u001b[0;32m~/anaconda3/envs/aiffel/lib/python3.7/site-packages/summa/preprocessing/textcleaner.py\u001b[0m in \u001b[0;36m<listcomp>\u001b[0;34m(.0)\u001b[0m\n\u001b[1;32m    100\u001b[0m \u001b[0;34m\u001b[0m\u001b[0m\n\u001b[1;32m    101\u001b[0m \u001b[0;32mdef\u001b[0m \u001b[0mstem_sentence\u001b[0m\u001b[0;34m(\u001b[0m\u001b[0msentence\u001b[0m\u001b[0;34m)\u001b[0m\u001b[0;34m:\u001b[0m\u001b[0;34m\u001b[0m\u001b[0;34m\u001b[0m\u001b[0m\n\u001b[0;32m--> 102\u001b[0;31m     \u001b[0mword_stems\u001b[0m \u001b[0;34m=\u001b[0m \u001b[0;34m[\u001b[0m\u001b[0mSTEMMER\u001b[0m\u001b[0;34m.\u001b[0m\u001b[0mstem\u001b[0m\u001b[0;34m(\u001b[0m\u001b[0mword\u001b[0m\u001b[0;34m)\u001b[0m \u001b[0;32mfor\u001b[0m \u001b[0mword\u001b[0m \u001b[0;32min\u001b[0m \u001b[0msentence\u001b[0m\u001b[0;34m.\u001b[0m\u001b[0msplit\u001b[0m\u001b[0;34m(\u001b[0m\u001b[0;34m)\u001b[0m\u001b[0;34m]\u001b[0m\u001b[0;34m\u001b[0m\u001b[0;34m\u001b[0m\u001b[0m\n\u001b[0m\u001b[1;32m    103\u001b[0m     \u001b[0;32mreturn\u001b[0m \u001b[0;34m\" \"\u001b[0m\u001b[0;34m.\u001b[0m\u001b[0mjoin\u001b[0m\u001b[0;34m(\u001b[0m\u001b[0mword_stems\u001b[0m\u001b[0;34m)\u001b[0m\u001b[0;34m\u001b[0m\u001b[0;34m\u001b[0m\u001b[0m\n\u001b[1;32m    104\u001b[0m \u001b[0;34m\u001b[0m\u001b[0m\n",
      "\u001b[0;32m~/anaconda3/envs/aiffel/lib/python3.7/site-packages/summa/preprocessing/snowball.py\u001b[0m in \u001b[0;36mstem\u001b[0;34m(self, word)\u001b[0m\n\u001b[1;32m    708\u001b[0m                     \u001b[0;32mbreak\u001b[0m\u001b[0;34m\u001b[0m\u001b[0;34m\u001b[0m\u001b[0m\n\u001b[1;32m    709\u001b[0m         \u001b[0;32melse\u001b[0m\u001b[0;34m:\u001b[0m\u001b[0;34m\u001b[0m\u001b[0;34m\u001b[0m\u001b[0m\n\u001b[0;32m--> 710\u001b[0;31m             \u001b[0mr1\u001b[0m\u001b[0;34m,\u001b[0m \u001b[0mr2\u001b[0m \u001b[0;34m=\u001b[0m \u001b[0mself\u001b[0m\u001b[0;34m.\u001b[0m\u001b[0m_r1r2_standard\u001b[0m\u001b[0;34m(\u001b[0m\u001b[0mword\u001b[0m\u001b[0;34m,\u001b[0m \u001b[0mself\u001b[0m\u001b[0;34m.\u001b[0m\u001b[0m__vowels\u001b[0m\u001b[0;34m)\u001b[0m\u001b[0;34m\u001b[0m\u001b[0;34m\u001b[0m\u001b[0m\n\u001b[0m\u001b[1;32m    711\u001b[0m \u001b[0;34m\u001b[0m\u001b[0m\n\u001b[1;32m    712\u001b[0m \u001b[0;34m\u001b[0m\u001b[0m\n",
      "\u001b[0;32m~/anaconda3/envs/aiffel/lib/python3.7/site-packages/summa/preprocessing/snowball.py\u001b[0m in \u001b[0;36m_r1r2_standard\u001b[0;34m(self, word, vowels)\u001b[0m\n\u001b[1;32m    222\u001b[0m         \u001b[0mr2\u001b[0m \u001b[0;34m=\u001b[0m \u001b[0;34m\"\"\u001b[0m\u001b[0;34m\u001b[0m\u001b[0;34m\u001b[0m\u001b[0m\n\u001b[1;32m    223\u001b[0m         \u001b[0;32mfor\u001b[0m \u001b[0mi\u001b[0m \u001b[0;32min\u001b[0m \u001b[0mrange\u001b[0m\u001b[0;34m(\u001b[0m\u001b[0;36m1\u001b[0m\u001b[0;34m,\u001b[0m \u001b[0mlen\u001b[0m\u001b[0;34m(\u001b[0m\u001b[0mword\u001b[0m\u001b[0;34m)\u001b[0m\u001b[0;34m)\u001b[0m\u001b[0;34m:\u001b[0m\u001b[0;34m\u001b[0m\u001b[0;34m\u001b[0m\u001b[0m\n\u001b[0;32m--> 224\u001b[0;31m             \u001b[0;32mif\u001b[0m \u001b[0mword\u001b[0m\u001b[0;34m[\u001b[0m\u001b[0mi\u001b[0m\u001b[0;34m]\u001b[0m \u001b[0;32mnot\u001b[0m \u001b[0;32min\u001b[0m \u001b[0mvowels\u001b[0m \u001b[0;32mand\u001b[0m \u001b[0mword\u001b[0m\u001b[0;34m[\u001b[0m\u001b[0mi\u001b[0m\u001b[0;34m-\u001b[0m\u001b[0;36m1\u001b[0m\u001b[0;34m]\u001b[0m \u001b[0;32min\u001b[0m \u001b[0mvowels\u001b[0m\u001b[0;34m:\u001b[0m\u001b[0;34m\u001b[0m\u001b[0;34m\u001b[0m\u001b[0m\n\u001b[0m\u001b[1;32m    225\u001b[0m                 \u001b[0mr1\u001b[0m \u001b[0;34m=\u001b[0m \u001b[0mword\u001b[0m\u001b[0;34m[\u001b[0m\u001b[0mi\u001b[0m\u001b[0;34m+\u001b[0m\u001b[0;36m1\u001b[0m\u001b[0;34m:\u001b[0m\u001b[0;34m]\u001b[0m\u001b[0;34m\u001b[0m\u001b[0;34m\u001b[0m\u001b[0m\n\u001b[1;32m    226\u001b[0m                 \u001b[0;32mbreak\u001b[0m\u001b[0;34m\u001b[0m\u001b[0;34m\u001b[0m\u001b[0m\n",
      "\u001b[0;31mKeyboardInterrupt\u001b[0m: "
     ]
    }
   ],
   "source": [
    "print('Summary:')\n",
    "print(summarize(text, words = 50))"
   ]
  },
  {
   "cell_type": "markdown",
   "id": "elegant-onion",
   "metadata": {},
   "source": [
    "text를 print해보면 정상적으로 나오는데 왜 마지막 부분이 오류가 나는지 잘 모르겠다. 제출 기한이 임박하여 일단 제출하고 좀더 알아봐야겠다."
   ]
  },
  {
   "cell_type": "markdown",
   "id": "dying-degree",
   "metadata": {},
   "source": [
    "### 이번 Exp는 유독 어렵게 느껴졌다. 일단 노드 순서를 따라하기는 했는데 뭐를 한건지 잘 모르겠다. 그나마 다행인건 오류 수정이 점점 익숙해지고 있다는 점이다. 오류가 나면 아무것도 못했는데 지금은 이것저것 시도라도 해보고 있다. 다행이다."
   ]
  },
  {
   "cell_type": "code",
   "execution_count": null,
   "id": "reported-variance",
   "metadata": {},
   "outputs": [],
   "source": []
  }
 ],
 "metadata": {
  "kernelspec": {
   "display_name": "Python 3",
   "language": "python",
   "name": "python3"
  },
  "language_info": {
   "codemirror_mode": {
    "name": "ipython",
    "version": 3
   },
   "file_extension": ".py",
   "mimetype": "text/x-python",
   "name": "python",
   "nbconvert_exporter": "python",
   "pygments_lexer": "ipython3",
   "version": "3.7.9"
  }
 },
 "nbformat": 4,
 "nbformat_minor": 5
}
