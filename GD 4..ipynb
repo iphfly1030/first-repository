{
 "cells": [
  {
   "cell_type": "markdown",
   "metadata": {},
   "source": [
    "# 4-7. 프로젝트: CutMix 또는 Mixup 비교실험 하기"
   ]
  },
  {
   "cell_type": "code",
   "execution_count": 1,
   "metadata": {},
   "outputs": [],
   "source": [
    "import tensorflow as tf\n",
    "from tensorflow import keras\n",
    "\n",
    "# Helper libraries\n",
    "import numpy as np\n",
    "import matplotlib.pyplot as plt\n",
    "\n",
    "import tensorflow_datasets as tfds"
   ]
  },
  {
   "cell_type": "code",
   "execution_count": 2,
   "metadata": {},
   "outputs": [
    {
     "data": {
      "text/plain": [
       "[PhysicalDevice(name='/physical_device:GPU:0', device_type='GPU')]"
      ]
     },
     "execution_count": 2,
     "metadata": {},
     "output_type": "execute_result"
    }
   ],
   "source": [
    "tf.config.list_physical_devices('GPU')"
   ]
  },
  {
   "cell_type": "code",
   "execution_count": 3,
   "metadata": {},
   "outputs": [],
   "source": [
    "def get_clip_box(image_a, image_b):\n",
    "    \n",
    "    image_size_x = image_a.shape[1]\n",
    "    image_size_y = image_a.shape[0]\n",
    "    x = tf.cast( tf.random.uniform([],0, image_size_x),tf.int32)\n",
    "    y = tf.cast( tf.random.uniform([],0, image_size_y),tf.int32)\n",
    "    \n",
    "    width = tf.cast(image_size_x * tf.math.sqrt(1-tf.random.uniform([],0,1)),tf.int32)\n",
    "    height = tf.cast(image_size_y * tf.math.sqrt(1-tf.random.uniform([],0,1)),tf.int32)\n",
    "\n",
    "    xa = tf.math.maximum(0, x-width//2)\n",
    "    ya = tf.math.maximum(0, y-height//2)\n",
    "    xb = tf.math.minimum(image_size_x, x+width//2)\n",
    "    yb = tf.math.minimum(image_size_y, y+width//2)\n",
    "    \n",
    "    return xa, ya, xb, yb"
   ]
  },
  {
   "cell_type": "code",
   "execution_count": 4,
   "metadata": {},
   "outputs": [],
   "source": [
    "def mix_2_images(image_a, image_b, xa, ya, xb, yb):\n",
    "    image_size_x = image_a.shape[1]\n",
    "    image_size_y = image_a.shape[0] \n",
    "    one = image_a[ya:yb,0:xa,:]\n",
    "    two = image_b[ya:yb,xa:xb,:]\n",
    "    three = image_a[ya:yb,xb:image_size_x,:]\n",
    "    middle = tf.concat([one,two,three],axis=1)\n",
    "    top = image_a[0:ya,:,:]\n",
    "    bottom = image_a[yb:image_size_y,:,:]\n",
    "    mixed_img = tf.concat([top, middle, bottom],axis=0)\n",
    "    \n",
    "    return mixed_img\n"
   ]
  },
  {
   "cell_type": "code",
   "execution_count": 5,
   "metadata": {},
   "outputs": [],
   "source": [
    "def mix_2_label(image_a, image_b,label_a, label_b, xa, ya, xb, yb, num_classes=120):\n",
    "    image_size_x = image_a.shape[1]\n",
    "    image_size_y = image_a.shape[0] \n",
    "    mixed_area = (xb-xa)*(yb-ya)\n",
    "    total_area = image_size_x*image_size_y\n",
    "    a = tf.cast(mixed_area/total_area, tf.float32)\n",
    "\n",
    "    if len(label_a.shape)==0:\n",
    "        label_a = tf.one_hot(label_a, num_classes)\n",
    "    if len(label_b.shape)==0:\n",
    "        label_b = tf.one_hot(label_b, num_classes)\n",
    "    mixed_label = (1-a)*label_a + a*label_b\n",
    "    return mixed_label"
   ]
  },
  {
   "cell_type": "code",
   "execution_count": 6,
   "metadata": {},
   "outputs": [],
   "source": [
    "def cutmix(image, label, prob = 1.0, batch_size=16, img_size=224, num_classes=120):\n",
    "    mixed_imgs = []\n",
    "    mixed_labels = []\n",
    "\n",
    "    for i in range(batch_size):\n",
    "#         print('for문 동작 시작')\n",
    "        image_a = image[i]\n",
    "#         print(type(image_a))\n",
    "#         print('image_a 생성 완료')\n",
    "        label_a = label[i]\n",
    "#         print('label_a 생성 완료')\n",
    "        j = tf.cast(tf.random.uniform([],0, batch_size),tf.int32)\n",
    "        image_b = image[j]\n",
    "        label_b = label[j]\n",
    "        xa, ya, xb, yb = get_clip_box(image_a, image_b)\n",
    "        mixed_imgs.append(mix_2_images(image_a, image_b, xa, ya, xb, yb))\n",
    "        mixed_labels.append(mix_2_label(image_a, image_b, label_a, label_b, xa, ya, xb, yb))\n",
    "#     print('for문 동작 완료')\n",
    "    mixed_imgs = tf.reshape(tf.stack(mixed_imgs),(batch_size, img_size, img_size, 3))\n",
    "    mixed_labels = tf.reshape(tf.stack(mixed_labels),(batch_size, num_classes))\n",
    "#     print('reshape 완료')\n",
    "#     print(type(mixed_imgs))\n",
    "#     print(type(mixed_labels))\n",
    "    return mixed_imgs, mixed_labels"
   ]
  },
  {
   "cell_type": "code",
   "execution_count": 7,
   "metadata": {},
   "outputs": [],
   "source": [
    "def mixup_2_images(image_a, image_b, label_a, label_b):\n",
    "    a = tf.random.uniform([],0,1)\n",
    "    \n",
    "    if len(label_a.shape)==0:\n",
    "        label_a = tf.one_hot(label_a, num_classes)\n",
    "    if len(label_b.shape)==0:\n",
    "        label_b = tf.one_hot(label_b, num_classes)\n",
    "    mixed_image= (1-a)*image_a + a*image_b\n",
    "    mixed_label = (1-a)*label_a + a*label_b\n",
    "    \n",
    "    return mixed_image, mixed_label"
   ]
  },
  {
   "cell_type": "code",
   "execution_count": 8,
   "metadata": {},
   "outputs": [],
   "source": [
    "def mixup(image, label, prob = 1.0, batch_size=16, img_size=224, num_classes=120):\n",
    "    mixed_imgs = []\n",
    "    mixed_labels = []\n",
    "\n",
    "    for i in range(batch_size):\n",
    "        image_a = image[i]\n",
    "#         plt.imshow(image_a)\n",
    "        label_a = label[i]\n",
    "        j = tf.cast(tf.random.uniform([],0, batch_size),tf.int32)\n",
    "        image_b = image[j]\n",
    "        label_b = label[j]\n",
    "        mixed_img, mixed_label = mixup_2_images(image_a, image_b, label_a, label_b)\n",
    "        mixed_imgs.append(mixed_img)\n",
    "        mixed_labels.append(mixed_label)\n",
    "\n",
    "    mixed_imgs = tf.reshape(tf.stack(mixed_imgs),(batch_size, img_size, img_size, 3))\n",
    "    mixed_labels = tf.reshape(tf.stack(mixed_labels),(batch_size, num_classes))\n",
    "    return mixed_imgs, mixed_labels"
   ]
  },
  {
   "cell_type": "markdown",
   "metadata": {},
   "source": [
    "## 1. Augmentation을 적용한 데이터셋 만들기"
   ]
  },
  {
   "cell_type": "code",
   "execution_count": 9,
   "metadata": {},
   "outputs": [],
   "source": [
    "def normalize_and_resize_img(image, label):\n",
    "    \"\"\"Normalizes images: `uint8` -> `float32`.\"\"\"\n",
    "    image = tf.image.resize(image, [224, 224])\n",
    "    return tf.cast(image, tf.float32) / 255., label\n",
    "\n",
    "def augment(image,label):\n",
    "    image = tf.image.random_flip_left_right(image)\n",
    "    image = tf.image.random_brightness(image, max_delta=0.2)\n",
    "    return image,label\n",
    "\n",
    "def apply_normalize_on_dataset(ds, is_test=False, batch_size=16, with_aug=False, with_cutmix=False, with_mixup=False):\n",
    "    ds = ds.map(\n",
    "        normalize_and_resize_img, \n",
    "        num_parallel_calls=2\n",
    "    )\n",
    "    if not is_test and with_aug:\n",
    "        ds = ds.map(\n",
    "            augment\n",
    "        )\n",
    "        \n",
    "    ds = ds.batch(batch_size)\n",
    "    \n",
    "    if not with_cutmix and not with_mixup:\n",
    "        ds = ds.map(\n",
    "            onehot,\n",
    "            num_parallel_calls=2\n",
    "        )\n",
    "    \n",
    "    if not is_test and with_cutmix:\n",
    "        ds = ds.map(\n",
    "            cutmix,\n",
    "            num_parallel_calls=2\n",
    "        )\n",
    "\n",
    "    if not is_test and with_mixup:\n",
    "        ds = ds.map(\n",
    "            mixup,\n",
    "            num_parallel_calls=2\n",
    "        )\n",
    "    if not is_test:\n",
    "        ds = ds.repeat()\n",
    "        ds = ds.shuffle(200)\n",
    "    ds = ds.prefetch(tf.data.experimental.AUTOTUNE)\n",
    "    return ds"
   ]
  },
  {
   "cell_type": "markdown",
   "metadata": {},
   "source": [
    "## 2. 모델 만들기"
   ]
  },
  {
   "cell_type": "code",
   "execution_count": 10,
   "metadata": {},
   "outputs": [],
   "source": [
    "(ds_train, ds_test), ds_info = tfds.load(\n",
    "    'stanford_dogs',\n",
    "    split=['train', 'test'],\n",
    "    as_supervised=True,\n",
    "    shuffle_files=True,\n",
    "    with_info=True,\n",
    ")"
   ]
  },
  {
   "cell_type": "markdown",
   "metadata": {},
   "source": [
    "#### No augmentation"
   ]
  },
  {
   "cell_type": "code",
   "execution_count": 11,
   "metadata": {},
   "outputs": [],
   "source": [
    "num_classes = ds_info.features[\"label\"].num_classes\n",
    "resnet50 = keras.models.Sequential([\n",
    "    keras.applications.resnet.ResNet50(\n",
    "        include_top=False,\n",
    "        weights='imagenet',\n",
    "        input_shape=(224, 224,3),\n",
    "        pooling='avg',\n",
    "    ),\n",
    "    keras.layers.Dense(num_classes, activation = 'softmax')\n",
    "])"
   ]
  },
  {
   "cell_type": "markdown",
   "metadata": {},
   "source": [
    "#### Augmentation"
   ]
  },
  {
   "cell_type": "code",
   "execution_count": 12,
   "metadata": {},
   "outputs": [],
   "source": [
    "aug_resnet50 = keras.models.Sequential([\n",
    "    keras.applications.resnet.ResNet50(\n",
    "        include_top=False,\n",
    "        weights='imagenet',\n",
    "        input_shape=(224, 224,3),\n",
    "        pooling='avg',\n",
    "    ),\n",
    "    keras.layers.Dense(num_classes, activation = 'softmax')\n",
    "])"
   ]
  },
  {
   "cell_type": "markdown",
   "metadata": {},
   "source": [
    "#### + Cutmix"
   ]
  },
  {
   "cell_type": "code",
   "execution_count": 13,
   "metadata": {},
   "outputs": [],
   "source": [
    "cutmix_resnet50 = keras.models.Sequential([\n",
    "    keras.applications.resnet.ResNet50(\n",
    "        include_top=False,\n",
    "        weights='imagenet',\n",
    "        input_shape=(224, 224,3),\n",
    "        pooling='avg',\n",
    "    ),\n",
    "    keras.layers.Dense(num_classes, activation = 'softmax')\n",
    "])"
   ]
  },
  {
   "cell_type": "markdown",
   "metadata": {},
   "source": [
    "#### + Mixup"
   ]
  },
  {
   "cell_type": "code",
   "execution_count": 14,
   "metadata": {},
   "outputs": [],
   "source": [
    "mixup_resnet50 = keras.models.Sequential([\n",
    "    keras.applications.resnet.ResNet50(\n",
    "        include_top=False,\n",
    "        weights='imagenet',\n",
    "        input_shape=(224, 224,3),\n",
    "        pooling='avg',\n",
    "    ),\n",
    "    keras.layers.Dense(num_classes, activation = 'softmax')\n",
    "])"
   ]
  },
  {
   "cell_type": "code",
   "execution_count": 15,
   "metadata": {},
   "outputs": [],
   "source": [
    "def onehot(image, label):\n",
    "    num_classes = 120\n",
    "    onehot_label = tf.one_hot(label, num_classes)\n",
    "    return image, onehot_label"
   ]
  },
  {
   "cell_type": "code",
   "execution_count": 16,
   "metadata": {},
   "outputs": [
    {
     "name": "stdout",
     "output_type": "stream",
     "text": [
      "WARNING:tensorflow:AutoGraph could not transform <function cutmix at 0x7faca5c85c20> and will run it as-is.\n",
      "Please report this to the TensorFlow team. When filing the bug, set the verbosity to 10 (on Linux, `export AUTOGRAPH_VERBOSITY=10`) and attach the full output.\n",
      "Cause: module 'gast' has no attribute 'Index'\n",
      "To silence this warning, decorate the function with @tf.autograph.experimental.do_not_convert\n"
     ]
    },
    {
     "name": "stderr",
     "output_type": "stream",
     "text": [
      "WARNING:tensorflow:AutoGraph could not transform <function cutmix at 0x7faca5c85c20> and will run it as-is.\n",
      "Please report this to the TensorFlow team. When filing the bug, set the verbosity to 10 (on Linux, `export AUTOGRAPH_VERBOSITY=10`) and attach the full output.\n",
      "Cause: module 'gast' has no attribute 'Index'\n",
      "To silence this warning, decorate the function with @tf.autograph.experimental.do_not_convert\n"
     ]
    },
    {
     "name": "stdout",
     "output_type": "stream",
     "text": [
      "WARNING: AutoGraph could not transform <function cutmix at 0x7faca5c85c20> and will run it as-is.\n",
      "Please report this to the TensorFlow team. When filing the bug, set the verbosity to 10 (on Linux, `export AUTOGRAPH_VERBOSITY=10`) and attach the full output.\n",
      "Cause: module 'gast' has no attribute 'Index'\n",
      "To silence this warning, decorate the function with @tf.autograph.experimental.do_not_convert\n",
      "WARNING:tensorflow:AutoGraph could not transform <function mixup at 0x7fad0c202e60> and will run it as-is.\n",
      "Please report this to the TensorFlow team. When filing the bug, set the verbosity to 10 (on Linux, `export AUTOGRAPH_VERBOSITY=10`) and attach the full output.\n",
      "Cause: module 'gast' has no attribute 'Index'\n",
      "To silence this warning, decorate the function with @tf.autograph.experimental.do_not_convert\n"
     ]
    },
    {
     "name": "stderr",
     "output_type": "stream",
     "text": [
      "WARNING:tensorflow:AutoGraph could not transform <function mixup at 0x7fad0c202e60> and will run it as-is.\n",
      "Please report this to the TensorFlow team. When filing the bug, set the verbosity to 10 (on Linux, `export AUTOGRAPH_VERBOSITY=10`) and attach the full output.\n",
      "Cause: module 'gast' has no attribute 'Index'\n",
      "To silence this warning, decorate the function with @tf.autograph.experimental.do_not_convert\n"
     ]
    },
    {
     "name": "stdout",
     "output_type": "stream",
     "text": [
      "WARNING: AutoGraph could not transform <function mixup at 0x7fad0c202e60> and will run it as-is.\n",
      "Please report this to the TensorFlow team. When filing the bug, set the verbosity to 10 (on Linux, `export AUTOGRAPH_VERBOSITY=10`) and attach the full output.\n",
      "Cause: module 'gast' has no attribute 'Index'\n",
      "To silence this warning, decorate the function with @tf.autograph.experimental.do_not_convert\n"
     ]
    }
   ],
   "source": [
    "ds_train_no_aug = apply_normalize_on_dataset(ds_train)\n",
    "ds_train_aug = apply_normalize_on_dataset(ds_train, with_aug=True)\n",
    "ds_train_cutmix = apply_normalize_on_dataset(ds_train, with_cutmix=True)\n",
    "ds_train_mixup = apply_normalize_on_dataset(ds_train, with_mixup=True)\n",
    "\n",
    "ds_test = apply_normalize_on_dataset(ds_test, is_test=True)"
   ]
  },
  {
   "cell_type": "markdown",
   "metadata": {},
   "source": [
    "## 3. 모델 훈련하기"
   ]
  },
  {
   "cell_type": "markdown",
   "metadata": {},
   "source": [
    "#### 2개를 비교하기"
   ]
  },
  {
   "cell_type": "code",
   "execution_count": 17,
   "metadata": {},
   "outputs": [
    {
     "name": "stdout",
     "output_type": "stream",
     "text": [
      "Model: \"sequential\"\n",
      "_________________________________________________________________\n",
      "Layer (type)                 Output Shape              Param #   \n",
      "=================================================================\n",
      "resnet50 (Functional)        (None, 2048)              23587712  \n",
      "_________________________________________________________________\n",
      "dense (Dense)                (None, 120)               245880    \n",
      "=================================================================\n",
      "Total params: 23,833,592\n",
      "Trainable params: 23,780,472\n",
      "Non-trainable params: 53,120\n",
      "_________________________________________________________________\n",
      "Model: \"sequential_1\"\n",
      "_________________________________________________________________\n",
      "Layer (type)                 Output Shape              Param #   \n",
      "=================================================================\n",
      "resnet50 (Functional)        (None, 2048)              23587712  \n",
      "_________________________________________________________________\n",
      "dense_1 (Dense)              (None, 120)               245880    \n",
      "=================================================================\n",
      "Total params: 23,833,592\n",
      "Trainable params: 23,780,472\n",
      "Non-trainable params: 53,120\n",
      "_________________________________________________________________\n",
      "no_aug 학습 시작\n",
      "Epoch 1/20\n",
      "750/750 [==============================] - 140s 149ms/step - loss: 3.2301 - accuracy: 0.2699 - val_loss: 3.2466 - val_accuracy: 0.2282\n",
      "Epoch 2/20\n",
      "750/750 [==============================] - 128s 171ms/step - loss: 0.9386 - accuracy: 0.7299 - val_loss: 1.2538 - val_accuracy: 0.6458\n",
      "Epoch 3/20\n",
      "750/750 [==============================] - 120s 160ms/step - loss: 0.3910 - accuracy: 0.8958 - val_loss: 0.9793 - val_accuracy: 0.7147\n",
      "Epoch 4/20\n",
      "750/750 [==============================] - 113s 151ms/step - loss: 0.1503 - accuracy: 0.9738 - val_loss: 1.0330 - val_accuracy: 0.7058\n",
      "Epoch 5/20\n",
      "750/750 [==============================] - 123s 164ms/step - loss: 0.0585 - accuracy: 0.9953 - val_loss: 0.9144 - val_accuracy: 0.7382\n",
      "Epoch 6/20\n",
      "750/750 [==============================] - 113s 150ms/step - loss: 0.0286 - accuracy: 0.9979 - val_loss: 0.9140 - val_accuracy: 0.7408\n",
      "Epoch 7/20\n",
      "750/750 [==============================] - 112s 150ms/step - loss: 0.0212 - accuracy: 0.9981 - val_loss: 0.9151 - val_accuracy: 0.7465\n",
      "Epoch 8/20\n",
      "750/750 [==============================] - 120s 160ms/step - loss: 0.0132 - accuracy: 0.9994 - val_loss: 0.9246 - val_accuracy: 0.7432\n",
      "Epoch 9/20\n",
      "750/750 [==============================] - 112s 149ms/step - loss: 0.0115 - accuracy: 0.9998 - val_loss: 0.9307 - val_accuracy: 0.7495\n",
      "Epoch 10/20\n",
      "750/750 [==============================] - 112s 149ms/step - loss: 0.0079 - accuracy: 0.9996 - val_loss: 0.9370 - val_accuracy: 0.7480\n",
      "Epoch 11/20\n",
      "750/750 [==============================] - 112s 150ms/step - loss: 0.0094 - accuracy: 0.9995 - val_loss: 0.9547 - val_accuracy: 0.7460\n",
      "Epoch 12/20\n",
      "750/750 [==============================] - 112s 149ms/step - loss: 0.0090 - accuracy: 0.9986 - val_loss: 0.9689 - val_accuracy: 0.7472\n",
      "Epoch 13/20\n",
      "750/750 [==============================] - 112s 149ms/step - loss: 0.0074 - accuracy: 0.9990 - val_loss: 0.9637 - val_accuracy: 0.7477\n",
      "Epoch 14/20\n",
      "750/750 [==============================] - 113s 151ms/step - loss: 0.0051 - accuracy: 0.9994 - val_loss: 0.9668 - val_accuracy: 0.7486\n",
      "Epoch 15/20\n",
      "750/750 [==============================] - 111s 149ms/step - loss: 0.0041 - accuracy: 0.9999 - val_loss: 0.9702 - val_accuracy: 0.7481\n",
      "Epoch 16/20\n",
      "750/750 [==============================] - 115s 154ms/step - loss: 0.0045 - accuracy: 1.0000 - val_loss: 0.9776 - val_accuracy: 0.7471\n",
      "Epoch 17/20\n",
      "750/750 [==============================] - 112s 150ms/step - loss: 0.0062 - accuracy: 0.9995 - val_loss: 0.9837 - val_accuracy: 0.7451\n",
      "Epoch 18/20\n",
      "750/750 [==============================] - 113s 150ms/step - loss: 0.0029 - accuracy: 0.9999 - val_loss: 0.9840 - val_accuracy: 0.7463\n",
      "Epoch 19/20\n",
      "750/750 [==============================] - 113s 150ms/step - loss: 0.0021 - accuracy: 1.0000 - val_loss: 0.9865 - val_accuracy: 0.7485\n",
      "Epoch 20/20\n",
      "750/750 [==============================] - 111s 148ms/step - loss: 0.0031 - accuracy: 0.9999 - val_loss: 0.9959 - val_accuracy: 0.7477\n",
      "no_aug 학습 끝\n",
      "no_aug 학습 시작\n",
      "Epoch 1/20\n",
      "750/750 [==============================] - 116s 149ms/step - loss: 3.2158 - accuracy: 0.2784 - val_loss: 2.9294 - val_accuracy: 0.2762\n",
      "Epoch 2/20\n",
      "750/750 [==============================] - 111s 148ms/step - loss: 1.1006 - accuracy: 0.6779 - val_loss: 1.3832 - val_accuracy: 0.6020\n",
      "Epoch 3/20\n",
      "750/750 [==============================] - 111s 148ms/step - loss: 0.6381 - accuracy: 0.8191 - val_loss: 1.1514 - val_accuracy: 0.6664\n",
      "Epoch 4/20\n",
      "750/750 [==============================] - 111s 148ms/step - loss: 0.3267 - accuracy: 0.9146 - val_loss: 1.0796 - val_accuracy: 0.7000\n",
      "Epoch 5/20\n",
      "750/750 [==============================] - 111s 148ms/step - loss: 0.1961 - accuracy: 0.9552 - val_loss: 1.0485 - val_accuracy: 0.7000\n",
      "Epoch 6/20\n",
      "750/750 [==============================] - 111s 149ms/step - loss: 0.1279 - accuracy: 0.9725 - val_loss: 0.9533 - val_accuracy: 0.7316\n",
      "Epoch 7/20\n",
      "750/750 [==============================] - 111s 148ms/step - loss: 0.0809 - accuracy: 0.9854 - val_loss: 1.0036 - val_accuracy: 0.7234\n",
      "Epoch 8/20\n",
      "750/750 [==============================] - 111s 148ms/step - loss: 0.0443 - accuracy: 0.9938 - val_loss: 0.9296 - val_accuracy: 0.7463\n",
      "Epoch 9/20\n",
      "750/750 [==============================] - 111s 148ms/step - loss: 0.0224 - accuracy: 0.9983 - val_loss: 0.9552 - val_accuracy: 0.7407\n",
      "Epoch 10/20\n",
      "750/750 [==============================] - 111s 148ms/step - loss: 0.0205 - accuracy: 0.9985 - val_loss: 0.9353 - val_accuracy: 0.7427\n",
      "Epoch 11/20\n",
      "750/750 [==============================] - 111s 148ms/step - loss: 0.0209 - accuracy: 0.9972 - val_loss: 0.9341 - val_accuracy: 0.7501\n",
      "Epoch 12/20\n",
      "750/750 [==============================] - 111s 148ms/step - loss: 0.0110 - accuracy: 0.9992 - val_loss: 0.9404 - val_accuracy: 0.7558\n",
      "Epoch 13/20\n",
      "750/750 [==============================] - 111s 148ms/step - loss: 0.0116 - accuracy: 0.9990 - val_loss: 0.9856 - val_accuracy: 0.7460\n",
      "Epoch 14/20\n",
      "750/750 [==============================] - 111s 148ms/step - loss: 0.0144 - accuracy: 0.9980 - val_loss: 0.9469 - val_accuracy: 0.7548\n",
      "Epoch 15/20\n",
      "750/750 [==============================] - 111s 148ms/step - loss: 0.0115 - accuracy: 0.9985 - val_loss: 0.9553 - val_accuracy: 0.7541\n",
      "Epoch 16/20\n",
      "750/750 [==============================] - 111s 148ms/step - loss: 0.0113 - accuracy: 0.9985 - val_loss: 0.9491 - val_accuracy: 0.7554\n",
      "Epoch 17/20\n",
      "750/750 [==============================] - 111s 148ms/step - loss: 0.0049 - accuracy: 0.9996 - val_loss: 0.9567 - val_accuracy: 0.7544\n",
      "Epoch 18/20\n",
      "750/750 [==============================] - 111s 148ms/step - loss: 0.0048 - accuracy: 1.0000 - val_loss: 0.9859 - val_accuracy: 0.7517\n",
      "Epoch 19/20\n",
      "750/750 [==============================] - 111s 148ms/step - loss: 0.0088 - accuracy: 0.9992 - val_loss: 1.0028 - val_accuracy: 0.7466\n",
      "Epoch 20/20\n",
      "750/750 [==============================] - 111s 148ms/step - loss: 0.0072 - accuracy: 0.9992 - val_loss: 1.0012 - val_accuracy: 0.7535\n",
      "no_aug 학습 끝\n"
     ]
    }
   ],
   "source": [
    "EPOCH = 20\n",
    "\n",
    "resnet50.compile(\n",
    "    loss='categorical_crossentropy',\n",
    "    optimizer=tf.keras.optimizers.SGD(lr=0.01),\n",
    "    metrics=['accuracy'],\n",
    ")\n",
    "resnet50.summary()\n",
    "\n",
    "aug_resnet50.compile(\n",
    "    loss='categorical_crossentropy',\n",
    "    optimizer=tf.keras.optimizers.SGD(lr=0.01),\n",
    "    metrics=['accuracy'],\n",
    ")\n",
    "aug_resnet50.summary()\n",
    "\n",
    "print('no_aug 학습 시작')\n",
    "history_resnet50_no_aug = resnet50.fit(\n",
    "    ds_train_no_aug, # augmentation 적용하지 않은 데이터셋 사용\n",
    "    steps_per_epoch=int(ds_info.splits['train'].num_examples/16),\n",
    "    validation_steps=int(ds_info.splits['test'].num_examples/16),\n",
    "    epochs=EPOCH,\n",
    "    validation_data=ds_test,\n",
    "    verbose=1,\n",
    "    use_multiprocessing=True,\n",
    ")\n",
    "print('no_aug 학습 끝')\n",
    "\n",
    "print('no_aug 학습 시작')\n",
    "history_resnet50_aug = aug_resnet50.fit(\n",
    "    ds_train_aug, # augmentation 적용한 데이터셋 사용\n",
    "    steps_per_epoch=int(ds_info.splits['train'].num_examples/16),\n",
    "    validation_steps=int(ds_info.splits['test'].num_examples/16),\n",
    "    epochs=EPOCH,\n",
    "    validation_data=ds_test,\n",
    "    verbose=1,\n",
    "    use_multiprocessing=True,\n",
    ")\n",
    "print('no_aug 학습 끝')"
   ]
  },
  {
   "cell_type": "code",
   "execution_count": 18,
   "metadata": {},
   "outputs": [
    {
     "name": "stdout",
     "output_type": "stream",
     "text": [
      "Model: \"sequential_2\"\n",
      "_________________________________________________________________\n",
      "Layer (type)                 Output Shape              Param #   \n",
      "=================================================================\n",
      "resnet50 (Functional)        (None, 2048)              23587712  \n",
      "_________________________________________________________________\n",
      "dense_2 (Dense)              (None, 120)               245880    \n",
      "=================================================================\n",
      "Total params: 23,833,592\n",
      "Trainable params: 23,780,472\n",
      "Non-trainable params: 53,120\n",
      "_________________________________________________________________\n",
      "Model: \"sequential_3\"\n",
      "_________________________________________________________________\n",
      "Layer (type)                 Output Shape              Param #   \n",
      "=================================================================\n",
      "resnet50 (Functional)        (None, 2048)              23587712  \n",
      "_________________________________________________________________\n",
      "dense_3 (Dense)              (None, 120)               245880    \n",
      "=================================================================\n",
      "Total params: 23,833,592\n",
      "Trainable params: 23,780,472\n",
      "Non-trainable params: 53,120\n",
      "_________________________________________________________________\n",
      "cutmix 학습 시작\n",
      "Epoch 1/20\n",
      "750/750 [==============================] - 118s 152ms/step - loss: 4.3442 - accuracy: 0.1144 - val_loss: 3.4827 - val_accuracy: 0.2035\n",
      "Epoch 2/20\n",
      "750/750 [==============================] - 113s 151ms/step - loss: 3.0698 - accuracy: 0.3942 - val_loss: 1.3301 - val_accuracy: 0.6214\n",
      "Epoch 3/20\n",
      "750/750 [==============================] - 113s 151ms/step - loss: 2.7248 - accuracy: 0.5083 - val_loss: 1.6980 - val_accuracy: 0.5520\n",
      "Epoch 4/20\n",
      "750/750 [==============================] - 113s 151ms/step - loss: 2.5323 - accuracy: 0.5685 - val_loss: 1.2174 - val_accuracy: 0.6666\n",
      "Epoch 5/20\n",
      "750/750 [==============================] - 113s 151ms/step - loss: 2.3358 - accuracy: 0.6209 - val_loss: 1.1994 - val_accuracy: 0.6734\n",
      "Epoch 6/20\n",
      "750/750 [==============================] - 113s 151ms/step - loss: 2.2358 - accuracy: 0.6649 - val_loss: 1.2292 - val_accuracy: 0.6711\n",
      "Epoch 7/20\n",
      "750/750 [==============================] - 113s 151ms/step - loss: 2.1181 - accuracy: 0.6975 - val_loss: 1.1860 - val_accuracy: 0.6798\n",
      "Epoch 8/20\n",
      "750/750 [==============================] - 114s 151ms/step - loss: 2.0656 - accuracy: 0.7122 - val_loss: 1.1672 - val_accuracy: 0.6811\n",
      "Epoch 9/20\n",
      "750/750 [==============================] - 113s 151ms/step - loss: 1.9814 - accuracy: 0.7310 - val_loss: 1.2369 - val_accuracy: 0.6763\n",
      "Epoch 10/20\n",
      "750/750 [==============================] - 113s 151ms/step - loss: 1.9029 - accuracy: 0.7636 - val_loss: 1.2914 - val_accuracy: 0.6651\n",
      "Epoch 11/20\n",
      "750/750 [==============================] - 113s 151ms/step - loss: 1.8619 - accuracy: 0.7657 - val_loss: 1.2229 - val_accuracy: 0.6863\n",
      "Epoch 12/20\n",
      "750/750 [==============================] - 113s 151ms/step - loss: 1.8278 - accuracy: 0.7742 - val_loss: 1.1574 - val_accuracy: 0.7025\n",
      "Epoch 13/20\n",
      "750/750 [==============================] - 113s 151ms/step - loss: 1.8016 - accuracy: 0.7762 - val_loss: 1.3021 - val_accuracy: 0.6762\n",
      "Epoch 14/20\n",
      "750/750 [==============================] - 113s 151ms/step - loss: 1.7717 - accuracy: 0.7980 - val_loss: 1.4743 - val_accuracy: 0.6519\n",
      "Epoch 15/20\n",
      "750/750 [==============================] - 117s 156ms/step - loss: 1.7085 - accuracy: 0.7977 - val_loss: 1.2641 - val_accuracy: 0.6895\n",
      "Epoch 16/20\n",
      "750/750 [==============================] - 120s 160ms/step - loss: 1.6788 - accuracy: 0.8033 - val_loss: 1.3649 - val_accuracy: 0.6620\n",
      "Epoch 17/20\n",
      "750/750 [==============================] - 118s 158ms/step - loss: 1.6720 - accuracy: 0.8036 - val_loss: 1.4621 - val_accuracy: 0.6498\n",
      "Epoch 18/20\n",
      "750/750 [==============================] - 119s 158ms/step - loss: 1.6549 - accuracy: 0.8113 - val_loss: 1.3991 - val_accuracy: 0.6819\n",
      "Epoch 19/20\n",
      "750/750 [==============================] - 121s 161ms/step - loss: 1.6365 - accuracy: 0.8084 - val_loss: 1.3870 - val_accuracy: 0.6722\n",
      "Epoch 20/20\n",
      "750/750 [==============================] - 122s 163ms/step - loss: 1.6000 - accuracy: 0.8147 - val_loss: 1.6175 - val_accuracy: 0.6109\n",
      "cutmix 학습 종료\n",
      "mixup 학습 시작\n",
      "Epoch 1/20\n",
      "750/750 [==============================] - 119s 152ms/step - loss: 4.3048 - accuracy: 0.1268 - val_loss: 4.3998 - val_accuracy: 0.0801\n",
      "Epoch 2/20\n",
      "750/750 [==============================] - 126s 168ms/step - loss: 2.9869 - accuracy: 0.4377 - val_loss: 1.3429 - val_accuracy: 0.6164\n",
      "Epoch 3/20\n",
      "750/750 [==============================] - 122s 163ms/step - loss: 2.6553 - accuracy: 0.5496 - val_loss: 1.4701 - val_accuracy: 0.5885\n",
      "Epoch 4/20\n",
      "750/750 [==============================] - 122s 162ms/step - loss: 2.4371 - accuracy: 0.6265 - val_loss: 1.4938 - val_accuracy: 0.5880\n",
      "Epoch 5/20\n",
      "750/750 [==============================] - 130s 173ms/step - loss: 2.3196 - accuracy: 0.6786 - val_loss: 1.3018 - val_accuracy: 0.6426\n",
      "Epoch 6/20\n",
      "750/750 [==============================] - 144s 192ms/step - loss: 2.2006 - accuracy: 0.7229 - val_loss: 1.3853 - val_accuracy: 0.6299\n",
      "Epoch 7/20\n",
      "750/750 [==============================] - 130s 174ms/step - loss: 2.1303 - accuracy: 0.7553 - val_loss: 1.3517 - val_accuracy: 0.6322\n",
      "Epoch 8/20\n",
      "750/750 [==============================] - 127s 169ms/step - loss: 2.0570 - accuracy: 0.7774 - val_loss: 1.3313 - val_accuracy: 0.6507\n",
      "Epoch 9/20\n",
      "750/750 [==============================] - 136s 181ms/step - loss: 2.0087 - accuracy: 0.7920 - val_loss: 1.3351 - val_accuracy: 0.6445\n",
      "Epoch 10/20\n",
      "750/750 [==============================] - 131s 175ms/step - loss: 1.9762 - accuracy: 0.8041 - val_loss: 1.2914 - val_accuracy: 0.6579\n",
      "Epoch 11/20\n",
      "750/750 [==============================] - 121s 162ms/step - loss: 1.9105 - accuracy: 0.8176 - val_loss: 1.2803 - val_accuracy: 0.6663\n",
      "Epoch 12/20\n",
      "750/750 [==============================] - 129s 172ms/step - loss: 1.8669 - accuracy: 0.8283 - val_loss: 1.2062 - val_accuracy: 0.6798\n",
      "Epoch 13/20\n",
      "750/750 [==============================] - 135s 180ms/step - loss: 1.8461 - accuracy: 0.8430 - val_loss: 1.5314 - val_accuracy: 0.6115\n",
      "Epoch 14/20\n",
      "750/750 [==============================] - 123s 164ms/step - loss: 1.8319 - accuracy: 0.8372 - val_loss: 1.2785 - val_accuracy: 0.6716\n",
      "Epoch 15/20\n",
      "750/750 [==============================] - 127s 170ms/step - loss: 1.7992 - accuracy: 0.8547 - val_loss: 1.4749 - val_accuracy: 0.6258\n",
      "Epoch 16/20\n",
      "750/750 [==============================] - 132s 176ms/step - loss: 1.8181 - accuracy: 0.8461 - val_loss: 1.3329 - val_accuracy: 0.6701\n",
      "Epoch 17/20\n",
      "750/750 [==============================] - 125s 166ms/step - loss: 1.7812 - accuracy: 0.8504 - val_loss: 1.3486 - val_accuracy: 0.6529\n",
      "Epoch 18/20\n",
      "750/750 [==============================] - 125s 167ms/step - loss: 1.7424 - accuracy: 0.8612 - val_loss: 1.2588 - val_accuracy: 0.6779\n",
      "Epoch 19/20\n",
      "750/750 [==============================] - 122s 163ms/step - loss: 1.7453 - accuracy: 0.8633 - val_loss: 1.3067 - val_accuracy: 0.6697\n",
      "Epoch 20/20\n",
      "750/750 [==============================] - 130s 173ms/step - loss: 1.7453 - accuracy: 0.8583 - val_loss: 1.3178 - val_accuracy: 0.6777\n",
      "mixup 학습 종료\n"
     ]
    }
   ],
   "source": [
    "EPOCH = 20\n",
    "\n",
    "tf.random.set_seed(2020)\n",
    "\n",
    "cutmix_resnet50.compile(\n",
    "    loss='categorical_crossentropy',\n",
    "    optimizer=tf.keras.optimizers.SGD(lr=0.01),\n",
    "    metrics=['accuracy']\n",
    ")\n",
    "cutmix_resnet50.summary()\n",
    "\n",
    "mixup_resnet50.compile(\n",
    "    loss='categorical_crossentropy',\n",
    "    optimizer=tf.keras.optimizers.SGD(lr=0.01),\n",
    "    metrics=['accuracy'],\n",
    ")\n",
    "mixup_resnet50.summary()\n",
    "\n",
    "print('cutmix 학습 시작')\n",
    "history_resnet50_cutmix = cutmix_resnet50.fit(\n",
    "    ds_train_cutmix, # cutmix 적용한 데이터셋 사용\n",
    "    steps_per_epoch=int(ds_info.splits['train'].num_examples/16),\n",
    "    validation_steps=int(ds_info.splits['test'].num_examples/16),\n",
    "    epochs=EPOCH,\n",
    "    validation_data=ds_test,\n",
    "    verbose=1,\n",
    "    use_multiprocessing=True,\n",
    ")\n",
    "print('cutmix 학습 종료')\n",
    "\n",
    "print('mixup 학습 시작')\n",
    "history_resnet50_mixup = mixup_resnet50.fit(\n",
    "    ds_train_mixup, # mixup 적용한 데이터셋 사용\n",
    "    steps_per_epoch=int(ds_info.splits['train'].num_examples/16),\n",
    "    validation_steps=int(ds_info.splits['test'].num_examples/16),\n",
    "    epochs=EPOCH,\n",
    "    validation_data=ds_test,\n",
    "    verbose=1,\n",
    "    use_multiprocessing=True,\n",
    ")\n",
    "print('mixup 학습 종료')"
   ]
  },
  {
   "cell_type": "markdown",
   "metadata": {},
   "source": [
    "## 4. 훈련 과정 시각화하기"
   ]
  },
  {
   "cell_type": "code",
   "execution_count": 19,
   "metadata": {},
   "outputs": [
    {
     "data": {
      "image/png": "[encoded data removed]",
      "text/plain": [
       "<Figure size 432x288 with 1 Axes>"
      ]
     },
     "metadata": {
      "needs_background": "light"
     },
     "output_type": "display_data"
    }
   ],
   "source": [
    "plt.plot(history_resnet50_no_aug.history['val_accuracy'], 'r')\n",
    "plt.plot(history_resnet50_aug.history['val_accuracy'], 'b')\n",
    "plt.plot(history_resnet50_cutmix.history['val_accuracy'], 'g')\n",
    "plt.plot(history_resnet50_mixup.history['val_accuracy'], 'y')\n",
    "plt.title('Model validation accuracy')\n",
    "plt.ylabel('Accuracy')\n",
    "plt.xlabel('Epoch')\n",
    "plt.legend(['No Augmentation', 'With Augmentation', 'CutMix', 'MixUp'], loc='upper left')\n",
    "plt.show()"
   ]
  },
  {
   "cell_type": "code",
   "execution_count": 20,
   "metadata": {},
   "outputs": [
    {
     "data": {
      "image/png": "[encoded data removed]",
      "text/plain": [
       "<Figure size 432x288 with 1 Axes>"
      ]
     },
     "metadata": {
      "needs_background": "light"
     },
     "output_type": "display_data"
    }
   ],
   "source": [
    "plt.plot(history_resnet50_no_aug.history['val_accuracy'], 'r')\n",
    "plt.plot(history_resnet50_aug.history['val_accuracy'], 'b')\n",
    "plt.plot(history_resnet50_cutmix.history['val_accuracy'], 'g')\n",
    "plt.plot(history_resnet50_mixup.history['val_accuracy'], 'y')\n",
    "plt.title('Model validation accuracy')\n",
    "plt.ylabel('Accuracy')\n",
    "plt.xlabel('Epoch')\n",
    "plt.legend(['No Augmentation', 'With Augmentation', 'CutMix', 'MixUp'], loc='upper left')\n",
    "plt.grid(True)\n",
    "plt.ylim(0.60, 0.76)\n",
    "plt.show()"
   ]
  },
  {
   "cell_type": "markdown",
   "metadata": {},
   "source": [
    "## 5. Augmentation에 의한 모델 성능 비교"
   ]
  },
  {
   "cell_type": "markdown",
   "metadata": {},
   "source": [
    "CutMix와 MixUp 기법이 생각보다 낮은 성능을 보인다. 뭔가 기본 augmentation보다 효과가 좋을 거라 생각했는데 완전히 반대다."
   ]
  }
 ],
 "metadata": {
  "kernelspec": {
   "display_name": "Python 3",
   "language": "python",
   "name": "python3"
  },
  "language_info": {
   "codemirror_mode": {
    "name": "ipython",
    "version": 3
   },
   "file_extension": ".py",
   "mimetype": "text/x-python",
   "name": "python",
   "nbconvert_exporter": "python",
   "pygments_lexer": "ipython3",
   "version": "3.7.10"
  }
 },
 "nbformat": 4,
 "nbformat_minor": 4
}
